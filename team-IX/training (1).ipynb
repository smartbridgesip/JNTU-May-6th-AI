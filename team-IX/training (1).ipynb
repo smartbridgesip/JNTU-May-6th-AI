{
 "cells": [
  {
   "cell_type": "code",
   "execution_count": 1,
   "metadata": {},
   "outputs": [
    {
     "name": "stderr",
     "output_type": "stream",
     "text": [
      "C:\\Anaconda3\\lib\\site-packages\\h5py\\__init__.py:36: FutureWarning: Conversion of the second argument of issubdtype from `float` to `np.floating` is deprecated. In future, it will be treated as `np.float64 == np.dtype(float).type`.\n",
      "  from ._conv import register_converters as _register_converters\n",
      "Using TensorFlow backend.\n"
     ]
    }
   ],
   "source": [
    "import keras"
   ]
  },
  {
   "cell_type": "code",
   "execution_count": 2,
   "metadata": {},
   "outputs": [],
   "source": [
    "#import keras libraries\n",
    "from keras.models import Sequential \n",
    "from keras.layers import Dense\n",
    "from keras.layers import Conv2D\n",
    "from keras.layers import MaxPooling2D\n",
    "from keras.layers import Flatten"
   ]
  },
  {
   "cell_type": "code",
   "execution_count": 3,
   "metadata": {},
   "outputs": [],
   "source": [
    "model_cnn=Sequential()"
   ]
  },
  {
   "cell_type": "code",
   "execution_count": 4,
   "metadata": {},
   "outputs": [
    {
     "name": "stderr",
     "output_type": "stream",
     "text": [
      "C:\\Anaconda3\\lib\\site-packages\\ipykernel_launcher.py:1: UserWarning: Update your `Conv2D` call to the Keras 2 API: `Conv2D(32, (3, 3), input_shape=(64, 64, 3..., activation=\"relu\")`\n",
      "  \"\"\"Entry point for launching an IPython kernel.\n"
     ]
    }
   ],
   "source": [
    "model_cnn.add(Conv2D(32,3,3,input_shape=(64,64,3),activation='relu'))"
   ]
  },
  {
   "cell_type": "code",
   "execution_count": 5,
   "metadata": {},
   "outputs": [],
   "source": [
    "model_cnn.add(MaxPooling2D(pool_size=(2,2)))"
   ]
  },
  {
   "cell_type": "code",
   "execution_count": 6,
   "metadata": {},
   "outputs": [],
   "source": [
    "model_cnn.add(Flatten())"
   ]
  },
  {
   "cell_type": "code",
   "execution_count": 7,
   "metadata": {},
   "outputs": [
    {
     "name": "stderr",
     "output_type": "stream",
     "text": [
      "C:\\Anaconda3\\lib\\site-packages\\ipykernel_launcher.py:1: UserWarning: Update your `Dense` call to the Keras 2 API: `Dense(activation=\"relu\", units=128, kernel_initializer=\"random_uniform\")`\n",
      "  \"\"\"Entry point for launching an IPython kernel.\n"
     ]
    }
   ],
   "source": [
    "model_cnn.add(Dense(output_dim=128,activation='relu',init='random_uniform'))"
   ]
  },
  {
   "cell_type": "code",
   "execution_count": 8,
   "metadata": {},
   "outputs": [
    {
     "name": "stderr",
     "output_type": "stream",
     "text": [
      "C:\\Anaconda3\\lib\\site-packages\\ipykernel_launcher.py:1: UserWarning: Update your `Dense` call to the Keras 2 API: `Dense(activation=\"softmax\", units=5, kernel_initializer=\"random_uniform\")`\n",
      "  \"\"\"Entry point for launching an IPython kernel.\n"
     ]
    }
   ],
   "source": [
    "model_cnn.add(Dense(output_dim=5,activation='softmax',init='random_uniform'))"
   ]
  },
  {
   "cell_type": "code",
   "execution_count": 9,
   "metadata": {},
   "outputs": [],
   "source": [
    "model_cnn.compile(optimizer='adam',metrics=['accuracy'],loss='categorical_crossentropy')"
   ]
  },
  {
   "cell_type": "code",
   "execution_count": 10,
   "metadata": {},
   "outputs": [],
   "source": [
    "from keras.preprocessing.image import ImageDataGenerator\n",
    "train_datagen=ImageDataGenerator(rescale=1./255,shear_range=0.2,zoom_range=0.2,horizontal_flip=True)\n",
    "test_datagen=ImageDataGenerator(rescale=1./255)"
   ]
  },
  {
   "cell_type": "code",
   "execution_count": 11,
   "metadata": {},
   "outputs": [
    {
     "name": "stdout",
     "output_type": "stream",
     "text": [
      "Found 2391 images belonging to 5 classes.\n",
      "Found 808 images belonging to 5 classes.\n"
     ]
    }
   ],
   "source": [
    "x_train=train_datagen.flow_from_directory(r\"C:\\Users\\srini\\Desktop\\exg\\train\",target_size=(64,64),batch_size=5,class_mode='categorical')\n",
    "x_test=test_datagen.flow_from_directory(r\"C:\\Users\\srini\\Desktop\\exg\\test\",target_size=(64,64),batch_size=5,class_mode='categorical')"
   ]
  },
  {
   "cell_type": "code",
   "execution_count": 12,
   "metadata": {},
   "outputs": [
    {
     "name": "stdout",
     "output_type": "stream",
     "text": [
      "{'Banana': 0, 'Cactus fruit': 1, 'Chestnut': 2, 'Dates': 3, 'Kohlrabi': 4}\n"
     ]
    }
   ],
   "source": [
    "print(x_train.class_indices)"
   ]
  },
  {
   "cell_type": "code",
   "execution_count": 13,
   "metadata": {},
   "outputs": [
    {
     "name": "stdout",
     "output_type": "stream",
     "text": [
      "{'Banana': 0, 'Cactus fruit': 1, 'Chestnut': 2, 'Dates': 3, 'Kohlrabi': 4}\n"
     ]
    }
   ],
   "source": [
    "print(x_test.class_indices)"
   ]
  },
  {
   "cell_type": "code",
   "execution_count": 14,
   "metadata": {
    "scrolled": true
   },
   "outputs": [
    {
     "name": "stderr",
     "output_type": "stream",
     "text": [
      "C:\\Anaconda3\\lib\\site-packages\\ipykernel_launcher.py:1: UserWarning: The semantics of the Keras 2 argument `steps_per_epoch` is not the same as the Keras 1 argument `samples_per_epoch`. `steps_per_epoch` is the number of batches to draw from the generator at each epoch. Basically steps_per_epoch = samples_per_epoch/batch_size. Similarly `nb_val_samples`->`validation_steps` and `val_samples`->`steps` arguments have changed. Update your method calls accordingly.\n",
      "  \"\"\"Entry point for launching an IPython kernel.\n",
      "C:\\Anaconda3\\lib\\site-packages\\ipykernel_launcher.py:1: UserWarning: Update your `fit_generator` call to the Keras 2 API: `fit_generator(<keras_pre..., epochs=100, validation_data=<keras_pre..., steps_per_epoch=478, validation_steps=808)`\n",
      "  \"\"\"Entry point for launching an IPython kernel.\n"
     ]
    },
    {
     "name": "stdout",
     "output_type": "stream",
     "text": [
      "Epoch 1/100\n",
      "478/478 [==============================] - 62s 130ms/step - loss: 0.2426 - acc: 0.9230 - val_loss: 0.2436 - val_acc: 0.9184\n",
      "Epoch 2/100\n",
      "478/478 [==============================] - 48s 100ms/step - loss: 0.0438 - acc: 0.9858 - val_loss: 0.4086 - val_acc: 0.9283\n",
      "Epoch 3/100\n",
      "478/478 [==============================] - 43s 91ms/step - loss: 0.0193 - acc: 0.9946 - val_loss: 0.2076 - val_acc: 0.9089\n",
      "Epoch 4/100\n",
      "478/478 [==============================] - 43s 90ms/step - loss: 0.0241 - acc: 0.9916 - val_loss: 0.5298 - val_acc: 0.8958\n",
      "Epoch 5/100\n",
      "478/478 [==============================] - 43s 90ms/step - loss: 0.0170 - acc: 0.9946 - val_loss: 0.4373 - val_acc: 0.9325\n",
      "Epoch 6/100\n",
      "478/478 [==============================] - 44s 92ms/step - loss: 0.0376 - acc: 0.9891 - val_loss: 0.7087 - val_acc: 0.9211\n",
      "Epoch 7/100\n",
      "478/478 [==============================] - 45s 94ms/step - loss: 0.0059 - acc: 0.9987 - val_loss: 0.4054 - val_acc: 0.9246\n",
      "Epoch 8/100\n",
      "478/478 [==============================] - 44s 92ms/step - loss: 0.0103 - acc: 0.9958 - val_loss: 0.2937 - val_acc: 0.9231\n",
      "Epoch 9/100\n",
      "478/478 [==============================] - 43s 90ms/step - loss: 0.0272 - acc: 0.9916 - val_loss: 0.2745 - val_acc: 0.9454\n",
      "Epoch 10/100\n",
      "478/478 [==============================] - 45s 94ms/step - loss: 0.0032 - acc: 0.9992 - val_loss: 0.0763 - val_acc: 0.9682\n",
      "Epoch 11/100\n",
      "478/478 [==============================] - 43s 90ms/step - loss: 0.0331 - acc: 0.9900 - val_loss: 0.4164 - val_acc: 0.9270\n",
      "Epoch 12/100\n",
      "478/478 [==============================] - 43s 90ms/step - loss: 0.0098 - acc: 0.9962 - val_loss: 0.3805 - val_acc: 0.9077\n",
      "Epoch 13/100\n",
      "478/478 [==============================] - 49s 102ms/step - loss: 0.0043 - acc: 0.9979 - val_loss: 0.1440 - val_acc: 0.9598\n",
      "Epoch 14/100\n",
      "478/478 [==============================] - 47s 99ms/step - loss: 1.7322e-04 - acc: 1.0000 - val_loss: 0.2059 - val_acc: 0.9561\n",
      "Epoch 15/100\n",
      "478/478 [==============================] - 48s 100ms/step - loss: 5.7932e-04 - acc: 1.0000 - val_loss: 0.2797 - val_acc: 0.9538\n",
      "Epoch 16/100\n",
      "478/478 [==============================] - 45s 93ms/step - loss: 5.8720e-05 - acc: 1.0000 - val_loss: 0.2394 - val_acc: 0.9467\n",
      "Epoch 17/100\n",
      "478/478 [==============================] - 49s 103ms/step - loss: 1.3064e-04 - acc: 1.0000 - val_loss: 0.3377 - val_acc: 0.9496\n",
      "Epoch 18/100\n",
      "478/478 [==============================] - 51s 106ms/step - loss: 1.1951e-04 - acc: 1.0000 - val_loss: 0.2317 - val_acc: 0.9588\n",
      "Epoch 19/100\n",
      "478/478 [==============================] - 51s 106ms/step - loss: 0.0479 - acc: 0.9874 - val_loss: 0.6501 - val_acc: 0.9176\n",
      "Epoch 20/100\n",
      "478/478 [==============================] - 52s 108ms/step - loss: 0.0083 - acc: 0.9975 - val_loss: 0.2235 - val_acc: 0.9553\n",
      "Epoch 21/100\n",
      "478/478 [==============================] - 49s 103ms/step - loss: 0.0067 - acc: 0.9971 - val_loss: 0.3690 - val_acc: 0.9469\n",
      "Epoch 22/100\n",
      "478/478 [==============================] - 53s 112ms/step - loss: 0.0423 - acc: 0.9912 - val_loss: 0.8443 - val_acc: 0.9360\n",
      "Epoch 23/100\n",
      "478/478 [==============================] - 52s 109ms/step - loss: 0.0109 - acc: 0.9971 - val_loss: 0.2193 - val_acc: 0.9608\n",
      "Epoch 24/100\n",
      "478/478 [==============================] - 51s 108ms/step - loss: 0.0013 - acc: 0.9996 - val_loss: 0.2751 - val_acc: 0.9578\n",
      "Epoch 25/100\n",
      "478/478 [==============================] - 51s 106ms/step - loss: 7.1876e-05 - acc: 1.0000 - val_loss: 0.3314 - val_acc: 0.9538\n",
      "Epoch 26/100\n",
      "478/478 [==============================] - 50s 106ms/step - loss: 1.0203e-04 - acc: 1.0000 - val_loss: 0.2381 - val_acc: 0.9633\n",
      "Epoch 27/100\n",
      "478/478 [==============================] - 50s 105ms/step - loss: 1.7658e-05 - acc: 1.0000 - val_loss: 0.2895 - val_acc: 0.9600\n",
      "Epoch 28/100\n",
      "478/478 [==============================] - 50s 105ms/step - loss: 5.4259e-06 - acc: 1.0000 - val_loss: 0.3403 - val_acc: 0.9536\n",
      "Epoch 29/100\n",
      "478/478 [==============================] - 51s 106ms/step - loss: 7.9581e-06 - acc: 1.0000 - val_loss: 0.3055 - val_acc: 0.9605\n",
      "Epoch 30/100\n",
      "478/478 [==============================] - 51s 107ms/step - loss: 2.3826e-06 - acc: 1.0000 - val_loss: 0.3555 - val_acc: 0.9538\n",
      "Epoch 31/100\n",
      "478/478 [==============================] - 50s 105ms/step - loss: 1.6493e-06 - acc: 1.0000 - val_loss: 0.3690 - val_acc: 0.9506\n",
      "Epoch 32/100\n",
      "478/478 [==============================] - 50s 105ms/step - loss: 3.0466e-06 - acc: 1.0000 - val_loss: 0.3249 - val_acc: 0.9583\n",
      "Epoch 33/100\n",
      "478/478 [==============================] - 50s 106ms/step - loss: 2.5504e-05 - acc: 1.0000 - val_loss: 0.3605 - val_acc: 0.9524\n",
      "Epoch 34/100\n",
      "478/478 [==============================] - 50s 105ms/step - loss: 3.3781e-06 - acc: 1.0000 - val_loss: 0.3297 - val_acc: 0.9586\n",
      "Epoch 35/100\n",
      "478/478 [==============================] - 50s 105ms/step - loss: 1.6130e-06 - acc: 1.0000 - val_loss: 0.3671 - val_acc: 0.9536\n",
      "Epoch 36/100\n",
      "478/478 [==============================] - 50s 105ms/step - loss: 9.5039e-07 - acc: 1.0000 - val_loss: 0.3735 - val_acc: 0.9533\n",
      "Epoch 37/100\n",
      "478/478 [==============================] - 51s 106ms/step - loss: 2.4819e-06 - acc: 1.0000 - val_loss: 0.3100 - val_acc: 0.9603\n",
      "Epoch 38/100\n",
      "478/478 [==============================] - 50s 105ms/step - loss: 1.1554e-06 - acc: 1.0000 - val_loss: 0.3629 - val_acc: 0.9568\n",
      "Epoch 39/100\n",
      "478/478 [==============================] - 50s 105ms/step - loss: 1.1844e-06 - acc: 1.0000 - val_loss: 0.3695 - val_acc: 0.9583\n",
      "Epoch 40/100\n",
      "478/478 [==============================] - 50s 105ms/step - loss: 1.3599e-06 - acc: 1.0000 - val_loss: 0.3424 - val_acc: 0.9576\n",
      "Epoch 41/100\n",
      "478/478 [==============================] - 51s 106ms/step - loss: 4.1253e-07 - acc: 1.0000 - val_loss: 0.3866 - val_acc: 0.9566\n",
      "Epoch 42/100\n",
      "478/478 [==============================] - 55s 115ms/step - loss: 0.1464 - acc: 0.9862 - val_loss: 0.2790 - val_acc: 0.9598\n",
      "Epoch 43/100\n",
      "478/478 [==============================] - 52s 109ms/step - loss: 0.0103 - acc: 0.9962 - val_loss: 0.4446 - val_acc: 0.9504\n",
      "Epoch 44/100\n",
      "478/478 [==============================] - 53s 110ms/step - loss: 1.2090e-04 - acc: 1.0000 - val_loss: 0.3663 - val_acc: 0.9536\n",
      "Epoch 45/100\n",
      "478/478 [==============================] - 52s 109ms/step - loss: 3.0834e-04 - acc: 1.0000 - val_loss: 0.3239 - val_acc: 0.9568\n",
      "Epoch 46/100\n",
      "478/478 [==============================] - 65s 136ms/step - loss: 4.8358e-05 - acc: 1.0000 - val_loss: 0.3793 - val_acc: 0.9519\n",
      "Epoch 47/100\n",
      "478/478 [==============================] - 56s 117ms/step - loss: 3.7555e-05 - acc: 1.0000 - val_loss: 0.4297 - val_acc: 0.9526\n",
      "Epoch 48/100\n",
      "478/478 [==============================] - 59s 123ms/step - loss: 4.3988e-05 - acc: 1.0000 - val_loss: 0.3537 - val_acc: 0.9538\n",
      "Epoch 49/100\n",
      "478/478 [==============================] - 56s 118ms/step - loss: 1.5929e-05 - acc: 1.0000 - val_loss: 0.3659 - val_acc: 0.9543\n",
      "Epoch 50/100\n",
      "478/478 [==============================] - 56s 117ms/step - loss: 6.5663e-06 - acc: 1.0000 - val_loss: 0.3235 - val_acc: 0.9566\n",
      "Epoch 51/100\n",
      "478/478 [==============================] - 65s 135ms/step - loss: 2.9675e-06 - acc: 1.0000 - val_loss: 0.3393 - val_acc: 0.9591\n",
      "Epoch 52/100\n",
      "478/478 [==============================] - 46s 95ms/step - loss: 2.3572e-06 - acc: 1.0000 - val_loss: 0.3262 - val_acc: 0.9598\n",
      "Epoch 53/100\n",
      "478/478 [==============================] - 42s 89ms/step - loss: 5.1786e-06 - acc: 1.0000 - val_loss: 0.3310 - val_acc: 0.9581\n",
      "Epoch 54/100\n",
      "478/478 [==============================] - 37s 78ms/step - loss: 2.4400e-05 - acc: 1.0000 - val_loss: 0.2943 - val_acc: 0.9620\n",
      "Epoch 55/100\n",
      "478/478 [==============================] - 50s 104ms/step - loss: 3.5054e-06 - acc: 1.0000 - val_loss: 0.3378 - val_acc: 0.9605\n",
      "Epoch 56/100\n",
      "478/478 [==============================] - 168s 352ms/step - loss: 4.8394e-07 - acc: 1.0000 - val_loss: 0.3441 - val_acc: 0.9600\n",
      "Epoch 57/100\n",
      "478/478 [==============================] - 43s 89ms/step - loss: 5.6691e-07 - acc: 1.0000 - val_loss: 0.3425 - val_acc: 0.9613\n",
      "Epoch 58/100\n",
      "478/478 [==============================] - 43s 91ms/step - loss: 1.6533e-06 - acc: 1.0000 - val_loss: 0.3863 - val_acc: 0.9586\n",
      "Epoch 59/100\n",
      "478/478 [==============================] - 44s 91ms/step - loss: 3.0399e-07 - acc: 1.0000 - val_loss: 0.3836 - val_acc: 0.9568\n"
     ]
    },
    {
     "name": "stdout",
     "output_type": "stream",
     "text": [
      "Epoch 60/100\n",
      "478/478 [==============================] - 43s 89ms/step - loss: 5.2933e-05 - acc: 1.0000 - val_loss: 0.3433 - val_acc: 0.9600\n",
      "Epoch 61/100\n",
      "478/478 [==============================] - 46s 95ms/step - loss: 0.1384 - acc: 0.9816 - val_loss: 0.5928 - val_acc: 0.9543\n",
      "Epoch 62/100\n",
      "478/478 [==============================] - 42s 88ms/step - loss: 5.2732e-06 - acc: 1.0000 - val_loss: 0.6280 - val_acc: 0.9509\n",
      "Epoch 63/100\n",
      "478/478 [==============================] - 43s 90ms/step - loss: 7.5012e-06 - acc: 1.0000 - val_loss: 0.6345 - val_acc: 0.9514\n",
      "Epoch 64/100\n",
      "478/478 [==============================] - 43s 90ms/step - loss: 2.7350e-07 - acc: 1.0000 - val_loss: 0.6156 - val_acc: 0.9526\n",
      "Epoch 65/100\n",
      "478/478 [==============================] - 43s 91ms/step - loss: 5.4290e-07 - acc: 1.0000 - val_loss: 0.6378 - val_acc: 0.9509\n",
      "Epoch 66/100\n",
      "478/478 [==============================] - 43s 91ms/step - loss: 0.0459 - acc: 0.9946 - val_loss: 0.8582 - val_acc: 0.8891\n",
      "Epoch 67/100\n",
      "478/478 [==============================] - 43s 91ms/step - loss: 0.0021 - acc: 0.9992 - val_loss: 0.8831 - val_acc: 0.9380\n",
      "Epoch 68/100\n",
      "478/478 [==============================] - 43s 89ms/step - loss: 0.0131 - acc: 0.9962 - val_loss: 0.5797 - val_acc: 0.9417\n",
      "Epoch 69/100\n",
      "478/478 [==============================] - 43s 89ms/step - loss: 4.7192e-05 - acc: 1.0000 - val_loss: 0.6039 - val_acc: 0.9457\n",
      "Epoch 70/100\n",
      "478/478 [==============================] - 42s 88ms/step - loss: 1.1091e-05 - acc: 1.0000 - val_loss: 0.5925 - val_acc: 0.9511\n",
      "Epoch 71/100\n",
      "478/478 [==============================] - 42s 88ms/step - loss: 0.0438 - acc: 0.9937 - val_loss: 0.5250 - val_acc: 0.9486\n",
      "Epoch 72/100\n",
      "478/478 [==============================] - 42s 87ms/step - loss: 0.0073 - acc: 0.9958 - val_loss: 0.7166 - val_acc: 0.9486\n",
      "Epoch 73/100\n",
      "478/478 [==============================] - 42s 87ms/step - loss: 0.0024 - acc: 0.9992 - val_loss: 0.4881 - val_acc: 0.9556\n",
      "Epoch 74/100\n",
      "478/478 [==============================] - 46s 97ms/step - loss: 1.8286e-04 - acc: 1.0000 - val_loss: 0.2878 - val_acc: 0.9695\n",
      "Epoch 75/100\n",
      "478/478 [==============================] - 44s 92ms/step - loss: 3.4985e-04 - acc: 0.9996 - val_loss: 0.3163 - val_acc: 0.9660\n",
      "Epoch 76/100\n",
      "478/478 [==============================] - 46s 97ms/step - loss: 1.8371e-05 - acc: 1.0000 - val_loss: 0.3575 - val_acc: 0.9643\n",
      "Epoch 77/100\n",
      "478/478 [==============================] - 45s 94ms/step - loss: 8.1846e-07 - acc: 1.0000 - val_loss: 0.3842 - val_acc: 0.9615\n",
      "Epoch 78/100\n",
      "478/478 [==============================] - 42s 89ms/step - loss: 9.9849e-07 - acc: 1.0000 - val_loss: 0.4034 - val_acc: 0.9603\n",
      "Epoch 79/100\n",
      "478/478 [==============================] - 42s 88ms/step - loss: 5.1064e-07 - acc: 1.0000 - val_loss: 0.4072 - val_acc: 0.9581\n",
      "Epoch 80/100\n",
      "478/478 [==============================] - 42s 87ms/step - loss: 6.0022e-07 - acc: 1.0000 - val_loss: 0.4153 - val_acc: 0.9581\n",
      "Epoch 81/100\n",
      "478/478 [==============================] - 42s 88ms/step - loss: 5.7906e-07 - acc: 1.0000 - val_loss: 0.4219 - val_acc: 0.9578\n",
      "Epoch 82/100\n",
      "478/478 [==============================] - 45s 95ms/step - loss: 5.2143e-07 - acc: 1.0000 - val_loss: 0.4339 - val_acc: 0.9581\n",
      "Epoch 83/100\n",
      "478/478 [==============================] - 44s 92ms/step - loss: 3.4849e-07 - acc: 1.0000 - val_loss: 0.4516 - val_acc: 0.9578\n",
      "Epoch 84/100\n",
      "478/478 [==============================] - 42s 89ms/step - loss: 5.4143e-05 - acc: 1.0000 - val_loss: 0.2387 - val_acc: 0.9742\n",
      "Epoch 85/100\n",
      "478/478 [==============================] - 43s 90ms/step - loss: 0.2075 - acc: 0.9837 - val_loss: 0.8388 - val_acc: 0.9457\n",
      "Epoch 86/100\n",
      "478/478 [==============================] - 42s 89ms/step - loss: 0.0131 - acc: 0.9983 - val_loss: 0.7320 - val_acc: 0.9437\n",
      "Epoch 87/100\n",
      "478/478 [==============================] - 43s 89ms/step - loss: 0.0060 - acc: 0.9979 - val_loss: 0.4382 - val_acc: 0.9655\n",
      "Epoch 88/100\n",
      "478/478 [==============================] - 42s 89ms/step - loss: 0.0063 - acc: 0.9987 - val_loss: 0.6103 - val_acc: 0.9521\n",
      "Epoch 89/100\n",
      "478/478 [==============================] - 42s 89ms/step - loss: 2.2075e-05 - acc: 1.0000 - val_loss: 0.6333 - val_acc: 0.9529\n",
      "Epoch 90/100\n",
      "478/478 [==============================] - 42s 89ms/step - loss: 1.1968e-06 - acc: 1.0000 - val_loss: 0.6600 - val_acc: 0.9531\n",
      "Epoch 91/100\n",
      "478/478 [==============================] - 43s 89ms/step - loss: 0.0116 - acc: 0.9979 - val_loss: 0.7230 - val_acc: 0.9479\n",
      "Epoch 92/100\n",
      "478/478 [==============================] - 47s 99ms/step - loss: 0.0052 - acc: 0.9979 - val_loss: 0.5601 - val_acc: 0.9543\n",
      "Epoch 93/100\n",
      "478/478 [==============================] - 43s 91ms/step - loss: 1.7166e-07 - acc: 1.0000 - val_loss: 0.5385 - val_acc: 0.9558\n",
      "Epoch 94/100\n",
      "478/478 [==============================] - 43s 89ms/step - loss: 0.0024 - acc: 0.9992 - val_loss: 0.6359 - val_acc: 0.9526\n",
      "Epoch 95/100\n",
      "478/478 [==============================] - 42s 89ms/step - loss: 2.0732e-05 - acc: 1.0000 - val_loss: 0.6293 - val_acc: 0.9533\n",
      "Epoch 96/100\n",
      "478/478 [==============================] - 43s 90ms/step - loss: 1.8061e-07 - acc: 1.0000 - val_loss: 0.6541 - val_acc: 0.9524\n",
      "Epoch 97/100\n",
      "478/478 [==============================] - 43s 91ms/step - loss: 1.1704e-05 - acc: 1.0000 - val_loss: 0.6643 - val_acc: 0.9531\n",
      "Epoch 98/100\n",
      "478/478 [==============================] - 43s 90ms/step - loss: 1.4088e-07 - acc: 1.0000 - val_loss: 0.6594 - val_acc: 0.9531\n",
      "Epoch 99/100\n",
      "478/478 [==============================] - 43s 90ms/step - loss: 1.4849e-07 - acc: 1.0000 - val_loss: 0.6636 - val_acc: 0.9529\n",
      "Epoch 100/100\n",
      "478/478 [==============================] - 43s 90ms/step - loss: 1.2240e-07 - acc: 1.0000 - val_loss: 0.6586 - val_acc: 0.9526\n"
     ]
    },
    {
     "data": {
      "text/plain": [
       "<keras.callbacks.History at 0x19e093e7f60>"
      ]
     },
     "execution_count": 14,
     "metadata": {},
     "output_type": "execute_result"
    }
   ],
   "source": [
    "model_cnn.fit_generator(x_train,samples_per_epoch=2391 ,epochs = 100,validation_data=x_test,nb_val_samples=808)"
   ]
  },
  {
   "cell_type": "code",
   "execution_count": 15,
   "metadata": {},
   "outputs": [],
   "source": [
    "model_cnn.save(\"exg.h5\")"
   ]
  },
  {
   "cell_type": "code",
   "execution_count": 16,
   "metadata": {},
   "outputs": [],
   "source": [
    "from keras.models import load_model\n",
    "save_mode=load_model('exg.h5')"
   ]
  },
  {
   "cell_type": "code",
   "execution_count": null,
   "metadata": {},
   "outputs": [],
   "source": []
  }
 ],
 "metadata": {
  "kernelspec": {
   "display_name": "Python 3",
   "language": "python",
   "name": "python3"
  },
  "language_info": {
   "codemirror_mode": {
    "name": "ipython",
    "version": 3
   },
   "file_extension": ".py",
   "mimetype": "text/x-python",
   "name": "python",
   "nbconvert_exporter": "python",
   "pygments_lexer": "ipython3",
   "version": "3.6.5"
  }
 },
 "nbformat": 4,
 "nbformat_minor": 2
}
