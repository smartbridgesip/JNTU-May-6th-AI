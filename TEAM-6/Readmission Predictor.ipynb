{
 "cells": [
  {
   "cell_type": "code",
   "execution_count": 1,
   "metadata": {},
   "outputs": [],
   "source": [
    "import os"
   ]
  },
  {
   "cell_type": "code",
   "execution_count": 2,
   "metadata": {},
   "outputs": [
    {
     "data": {
      "text/plain": [
       "'E:\\\\SIP Usecase'"
      ]
     },
     "execution_count": 2,
     "metadata": {},
     "output_type": "execute_result"
    }
   ],
   "source": [
    "os.getcwd()"
   ]
  },
  {
   "cell_type": "code",
   "execution_count": 3,
   "metadata": {},
   "outputs": [
    {
     "name": "stderr",
     "output_type": "stream",
     "text": [
      "Using TensorFlow backend.\n"
     ]
    }
   ],
   "source": [
    "import pandas as pd\n",
    "import numpy as np\n",
    "import seaborn as sns\n",
    "import matplotlib.pyplot as plt\n",
    "import keras"
   ]
  },
  {
   "cell_type": "code",
   "execution_count": 4,
   "metadata": {},
   "outputs": [],
   "source": [
    "df = pd.read_csv(r\"E:\\SIP Usecase\\diabetic_data.csv\")"
   ]
  },
  {
   "cell_type": "code",
   "execution_count": 5,
   "metadata": {},
   "outputs": [],
   "source": [
    "df = df.replace('?',np.nan)"
   ]
  },
  {
   "cell_type": "code",
   "execution_count": 6,
   "metadata": {},
   "outputs": [],
   "source": [
    "df.index = df.patient_nbr"
   ]
  },
  {
   "cell_type": "code",
   "execution_count": 7,
   "metadata": {},
   "outputs": [
    {
     "data": {
      "text/plain": [
       "patient_nbr\n",
       "8222157        8222157\n",
       "55629189      55629189\n",
       "86047875      86047875\n",
       "82442376      82442376\n",
       "42519267      42519267\n",
       "82637451      82637451\n",
       "84259809      84259809\n",
       "114882984    114882984\n",
       "48330783      48330783\n",
       "63555939      63555939\n",
       "89869032      89869032\n",
       "77391171      77391171\n",
       "85504905      85504905\n",
       "77586282      77586282\n",
       "49726791      49726791\n",
       "86328819      86328819\n",
       "92519352      92519352\n",
       "108662661    108662661\n",
       "107389323    107389323\n",
       "69422211      69422211\n",
       "22864131      22864131\n",
       "21239181      21239181\n",
       "63000108      63000108\n",
       "107400762    107400762\n",
       "62718876      62718876\n",
       "21861756      21861756\n",
       "40523301      40523301\n",
       "115196778    115196778\n",
       "41606064      41606064\n",
       "18196434      18196434\n",
       "               ...    \n",
       "90751788      90751788\n",
       "125764160    125764160\n",
       "95780439      95780439\n",
       "30656952      30656952\n",
       "134647673    134647673\n",
       "58160520      58160520\n",
       "52419276      52419276\n",
       "47293812      47293812\n",
       "43686936      43686936\n",
       "183766055    183766055\n",
       "89955270      89955270\n",
       "33230016      33230016\n",
       "189481478    189481478\n",
       "106392411    106392411\n",
       "138784172    138784172\n",
       "175326800    175326800\n",
       "139605341    139605341\n",
       "184875899    184875899\n",
       "183087545    183087545\n",
       "188574944    188574944\n",
       "140199494    140199494\n",
       "181593374    181593374\n",
       "120975314    120975314\n",
       "86472243      86472243\n",
       "50375628      50375628\n",
       "100162476    100162476\n",
       "74694222      74694222\n",
       "41088789      41088789\n",
       "31693671      31693671\n",
       "175429310    175429310\n",
       "Name: patient_nbr, Length: 101766, dtype: int64"
      ]
     },
     "execution_count": 7,
     "metadata": {},
     "output_type": "execute_result"
    }
   ],
   "source": [
    "df.pop('patient_nbr')"
   ]
  },
  {
   "cell_type": "code",
   "execution_count": 8,
   "metadata": {},
   "outputs": [
    {
     "data": {
      "text/plain": [
       "patient_nbr\n",
       "8222157        2278392\n",
       "55629189        149190\n",
       "86047875         64410\n",
       "82442376        500364\n",
       "42519267         16680\n",
       "82637451         35754\n",
       "84259809         55842\n",
       "114882984        63768\n",
       "48330783         12522\n",
       "63555939         15738\n",
       "89869032         28236\n",
       "77391171         36900\n",
       "85504905         40926\n",
       "77586282         42570\n",
       "49726791         62256\n",
       "86328819         73578\n",
       "92519352         77076\n",
       "108662661        84222\n",
       "107389323        89682\n",
       "69422211        148530\n",
       "22864131        150006\n",
       "21239181        150048\n",
       "63000108        182796\n",
       "107400762       183930\n",
       "62718876        216156\n",
       "21861756        221634\n",
       "40523301        236316\n",
       "115196778       248916\n",
       "41606064        250872\n",
       "18196434        252822\n",
       "               ...    \n",
       "90751788     443739152\n",
       "125764160    443775086\n",
       "95780439     443775482\n",
       "30656952     443775740\n",
       "134647673    443778398\n",
       "58160520     443787128\n",
       "52419276     443787512\n",
       "47293812     443793668\n",
       "43686936     443793992\n",
       "183766055    443797076\n",
       "89955270     443797298\n",
       "33230016     443804570\n",
       "189481478    443811536\n",
       "106392411    443816024\n",
       "138784172    443824292\n",
       "175326800    443835140\n",
       "139605341    443835512\n",
       "184875899    443841992\n",
       "183087545    443842016\n",
       "188574944    443842022\n",
       "140199494    443842070\n",
       "181593374    443842136\n",
       "120975314    443842340\n",
       "86472243     443842778\n",
       "50375628     443847176\n",
       "100162476    443847548\n",
       "74694222     443847782\n",
       "41088789     443854148\n",
       "31693671     443857166\n",
       "175429310    443867222\n",
       "Name: encounter_id, Length: 101766, dtype: int64"
      ]
     },
     "execution_count": 8,
     "metadata": {},
     "output_type": "execute_result"
    }
   ],
   "source": [
    "df.pop('encounter_id')"
   ]
  },
  {
   "cell_type": "code",
   "execution_count": 9,
   "metadata": {},
   "outputs": [
    {
     "data": {
      "text/plain": [
       "patient_nbr\n",
       "8222157            Caucasian\n",
       "55629189           Caucasian\n",
       "86047875     AfricanAmerican\n",
       "82442376           Caucasian\n",
       "42519267           Caucasian\n",
       "82637451           Caucasian\n",
       "84259809           Caucasian\n",
       "114882984          Caucasian\n",
       "48330783           Caucasian\n",
       "63555939           Caucasian\n",
       "89869032     AfricanAmerican\n",
       "77391171     AfricanAmerican\n",
       "85504905           Caucasian\n",
       "77586282           Caucasian\n",
       "49726791     AfricanAmerican\n",
       "86328819     AfricanAmerican\n",
       "92519352     AfricanAmerican\n",
       "108662661          Caucasian\n",
       "107389323    AfricanAmerican\n",
       "69422211                 NaN\n",
       "22864131                 NaN\n",
       "21239181                 NaN\n",
       "63000108     AfricanAmerican\n",
       "107400762          Caucasian\n",
       "62718876     AfricanAmerican\n",
       "21861756               Other\n",
       "40523301           Caucasian\n",
       "115196778          Caucasian\n",
       "41606064           Caucasian\n",
       "18196434           Caucasian\n",
       "                  ...       \n",
       "90751788           Caucasian\n",
       "125764160          Caucasian\n",
       "95780439           Caucasian\n",
       "30656952     AfricanAmerican\n",
       "134647673          Caucasian\n",
       "58160520     AfricanAmerican\n",
       "52419276           Caucasian\n",
       "47293812           Caucasian\n",
       "43686936           Caucasian\n",
       "183766055          Caucasian\n",
       "89955270           Caucasian\n",
       "33230016           Caucasian\n",
       "189481478          Caucasian\n",
       "106392411          Caucasian\n",
       "138784172          Caucasian\n",
       "175326800          Caucasian\n",
       "139605341              Other\n",
       "184875899              Other\n",
       "183087545          Caucasian\n",
       "188574944              Other\n",
       "140199494              Other\n",
       "181593374          Caucasian\n",
       "120975314          Caucasian\n",
       "86472243           Caucasian\n",
       "50375628     AfricanAmerican\n",
       "100162476    AfricanAmerican\n",
       "74694222     AfricanAmerican\n",
       "41088789           Caucasian\n",
       "31693671           Caucasian\n",
       "175429310          Caucasian\n",
       "Name: race, Length: 101766, dtype: object"
      ]
     },
     "execution_count": 9,
     "metadata": {},
     "output_type": "execute_result"
    }
   ],
   "source": [
    "df.pop('race')"
   ]
  },
  {
   "cell_type": "code",
   "execution_count": 10,
   "metadata": {},
   "outputs": [
    {
     "data": {
      "text/plain": [
       "age\n",
       "[0-10)        161\n",
       "[10-20)       691\n",
       "[20-30)      1657\n",
       "[30-40)      3775\n",
       "[40-50)      9685\n",
       "[50-60)     17256\n",
       "[60-70)     22483\n",
       "[70-80)     26068\n",
       "[80-90)     17197\n",
       "[90-100)     2793\n",
       "dtype: int64"
      ]
     },
     "execution_count": 10,
     "metadata": {},
     "output_type": "execute_result"
    }
   ],
   "source": [
    "df.groupby('age').size()"
   ]
  },
  {
   "cell_type": "code",
   "execution_count": 11,
   "metadata": {},
   "outputs": [],
   "source": [
    "age_id = {'[0-10)':0, \n",
    "          '[10-20)':10, \n",
    "          '[20-30)':20, \n",
    "          '[30-40)':30, \n",
    "          '[40-50)':40, \n",
    "          '[50-60)':50,\n",
    "          '[60-70)':60, \n",
    "          '[70-80)':70, \n",
    "          '[80-90)':80, \n",
    "          '[90-100)':90}\n",
    "df['age'] = df.age.replace(age_id)"
   ]
  },
  {
   "cell_type": "code",
   "execution_count": 12,
   "metadata": {},
   "outputs": [
    {
     "data": {
      "text/plain": [
       "patient_nbr\n",
       "8222157      NaN\n",
       "55629189     NaN\n",
       "86047875     NaN\n",
       "82442376     NaN\n",
       "42519267     NaN\n",
       "82637451     NaN\n",
       "84259809     NaN\n",
       "114882984    NaN\n",
       "48330783     NaN\n",
       "63555939     NaN\n",
       "89869032     NaN\n",
       "77391171     NaN\n",
       "85504905     NaN\n",
       "77586282     NaN\n",
       "49726791     NaN\n",
       "86328819     NaN\n",
       "92519352     NaN\n",
       "108662661    NaN\n",
       "107389323    NaN\n",
       "69422211     NaN\n",
       "22864131     NaN\n",
       "21239181     NaN\n",
       "63000108     NaN\n",
       "107400762    NaN\n",
       "62718876     NaN\n",
       "21861756     NaN\n",
       "40523301     NaN\n",
       "115196778    NaN\n",
       "41606064     NaN\n",
       "18196434     NaN\n",
       "            ... \n",
       "90751788     NaN\n",
       "125764160    NaN\n",
       "95780439     NaN\n",
       "30656952     NaN\n",
       "134647673    NaN\n",
       "58160520     NaN\n",
       "52419276     NaN\n",
       "47293812     NaN\n",
       "43686936     NaN\n",
       "183766055    NaN\n",
       "89955270     NaN\n",
       "33230016     NaN\n",
       "189481478    NaN\n",
       "106392411    NaN\n",
       "138784172    NaN\n",
       "175326800    NaN\n",
       "139605341    NaN\n",
       "184875899    NaN\n",
       "183087545    NaN\n",
       "188574944    NaN\n",
       "140199494    NaN\n",
       "181593374    NaN\n",
       "120975314    NaN\n",
       "86472243     NaN\n",
       "50375628     NaN\n",
       "100162476    NaN\n",
       "74694222     NaN\n",
       "41088789     NaN\n",
       "31693671     NaN\n",
       "175429310    NaN\n",
       "Name: weight, Length: 101766, dtype: object"
      ]
     },
     "execution_count": 12,
     "metadata": {},
     "output_type": "execute_result"
    }
   ],
   "source": [
    "df.pop('weight')"
   ]
  },
  {
   "cell_type": "code",
   "execution_count": 13,
   "metadata": {},
   "outputs": [
    {
     "data": {
      "text/plain": [
       "patient_nbr\n",
       "8222157      NaN\n",
       "55629189     NaN\n",
       "86047875     NaN\n",
       "82442376     NaN\n",
       "42519267     NaN\n",
       "82637451     NaN\n",
       "84259809     NaN\n",
       "114882984    NaN\n",
       "48330783     NaN\n",
       "63555939     NaN\n",
       "89869032     NaN\n",
       "77391171     NaN\n",
       "85504905     NaN\n",
       "77586282     NaN\n",
       "49726791     NaN\n",
       "86328819     NaN\n",
       "92519352     NaN\n",
       "108662661    NaN\n",
       "107389323    NaN\n",
       "69422211     NaN\n",
       "22864131     NaN\n",
       "21239181     NaN\n",
       "63000108     NaN\n",
       "107400762    NaN\n",
       "62718876     NaN\n",
       "21861756     NaN\n",
       "40523301     NaN\n",
       "115196778    NaN\n",
       "41606064     NaN\n",
       "18196434     NaN\n",
       "            ... \n",
       "90751788      HM\n",
       "125764160     CP\n",
       "95780439      MC\n",
       "30656952      HM\n",
       "134647673     MD\n",
       "58160520      MC\n",
       "52419276      MC\n",
       "47293812      MC\n",
       "43686936      SP\n",
       "183766055     BC\n",
       "89955270      MC\n",
       "33230016      MC\n",
       "189481478     MD\n",
       "106392411     MC\n",
       "138784172     MD\n",
       "175326800     MC\n",
       "139605341     HM\n",
       "184875899    NaN\n",
       "183087545    NaN\n",
       "188574944     MD\n",
       "140199494     MD\n",
       "181593374    NaN\n",
       "120975314     MC\n",
       "86472243      MC\n",
       "50375628      DM\n",
       "100162476     MC\n",
       "74694222      MC\n",
       "41088789      MC\n",
       "31693671      MC\n",
       "175429310    NaN\n",
       "Name: payer_code, Length: 101766, dtype: object"
      ]
     },
     "execution_count": 13,
     "metadata": {},
     "output_type": "execute_result"
    }
   ],
   "source": [
    "df.pop('payer_code')"
   ]
  },
  {
   "cell_type": "code",
   "execution_count": 14,
   "metadata": {},
   "outputs": [
    {
     "data": {
      "text/plain": [
       "patient_nbr\n",
       "8222157      250.83\n",
       "55629189        276\n",
       "86047875        648\n",
       "82442376          8\n",
       "42519267        197\n",
       "82637451        414\n",
       "84259809        414\n",
       "114882984       428\n",
       "48330783        398\n",
       "63555939        434\n",
       "89869032      250.7\n",
       "77391171        157\n",
       "85504905        428\n",
       "77586282        428\n",
       "49726791        518\n",
       "86328819        999\n",
       "92519352        410\n",
       "108662661       682\n",
       "107389323       402\n",
       "69422211        737\n",
       "22864131        410\n",
       "21239181        572\n",
       "63000108        410\n",
       "107400762       V57\n",
       "62718876        189\n",
       "21861756        786\n",
       "40523301        427\n",
       "115196778       996\n",
       "41606064        277\n",
       "18196434        428\n",
       "              ...  \n",
       "90751788        590\n",
       "125764160       182\n",
       "95780439        275\n",
       "30656952        414\n",
       "134647673       414\n",
       "58160520        820\n",
       "52419276      250.8\n",
       "47293812        486\n",
       "43686936        427\n",
       "183766055       682\n",
       "89955270        427\n",
       "33230016        410\n",
       "189481478       295\n",
       "106392411       715\n",
       "138784172       574\n",
       "175326800       424\n",
       "139605341       348\n",
       "184875899     250.8\n",
       "183087545       574\n",
       "188574944       592\n",
       "140199494       996\n",
       "181593374       491\n",
       "120975314       292\n",
       "86472243        435\n",
       "50375628        345\n",
       "100162476    250.13\n",
       "74694222        560\n",
       "41088789         38\n",
       "31693671        996\n",
       "175429310       530\n",
       "Name: diag_1, Length: 101766, dtype: object"
      ]
     },
     "execution_count": 14,
     "metadata": {},
     "output_type": "execute_result"
    }
   ],
   "source": [
    "df.pop('diag_1')"
   ]
  },
  {
   "cell_type": "code",
   "execution_count": 15,
   "metadata": {},
   "outputs": [
    {
     "data": {
      "text/plain": [
       "patient_nbr\n",
       "8222157         NaN\n",
       "55629189     250.01\n",
       "86047875        250\n",
       "82442376     250.43\n",
       "42519267        157\n",
       "82637451        411\n",
       "84259809        411\n",
       "114882984       492\n",
       "48330783        427\n",
       "63555939        198\n",
       "89869032        403\n",
       "77391171        288\n",
       "85504905     250.43\n",
       "77586282        411\n",
       "49726791        998\n",
       "86328819        507\n",
       "92519352        411\n",
       "108662661       174\n",
       "107389323       425\n",
       "69422211        427\n",
       "22864131        427\n",
       "21239181        456\n",
       "63000108        401\n",
       "107400762       715\n",
       "62718876        496\n",
       "21861756        401\n",
       "40523301        428\n",
       "115196778       585\n",
       "41606064     250.02\n",
       "18196434        410\n",
       "              ...  \n",
       "90751788        564\n",
       "125764160       V85\n",
       "95780439        250\n",
       "30656952        401\n",
       "134647673       319\n",
       "58160520        427\n",
       "52419276        682\n",
       "47293812        276\n",
       "43686936        428\n",
       "183766055       250\n",
       "89955270        427\n",
       "33230016        311\n",
       "189481478       305\n",
       "106392411       401\n",
       "138784172       574\n",
       "175326800       429\n",
       "139605341       784\n",
       "184875899       730\n",
       "183087545       574\n",
       "188574944       599\n",
       "140199494       585\n",
       "181593374       518\n",
       "120975314         8\n",
       "86472243        784\n",
       "50375628        438\n",
       "100162476       291\n",
       "74694222        276\n",
       "41088789        590\n",
       "31693671        285\n",
       "175429310       530\n",
       "Name: diag_2, Length: 101766, dtype: object"
      ]
     },
     "execution_count": 15,
     "metadata": {},
     "output_type": "execute_result"
    }
   ],
   "source": [
    "df.pop('diag_2')"
   ]
  },
  {
   "cell_type": "code",
   "execution_count": 16,
   "metadata": {},
   "outputs": [
    {
     "data": {
      "text/plain": [
       "patient_nbr\n",
       "8222157         NaN\n",
       "55629189        255\n",
       "86047875        V27\n",
       "82442376        403\n",
       "42519267        250\n",
       "82637451        250\n",
       "84259809        V45\n",
       "114882984       250\n",
       "48330783         38\n",
       "63555939        486\n",
       "89869032        996\n",
       "77391171        197\n",
       "85504905      250.6\n",
       "77586282        427\n",
       "49726791        627\n",
       "86328819        996\n",
       "92519352        414\n",
       "108662661       250\n",
       "107389323       416\n",
       "69422211        714\n",
       "22864131        428\n",
       "21239181        427\n",
       "63000108        582\n",
       "107400762       V43\n",
       "62718876        427\n",
       "21861756        250\n",
       "40523301        414\n",
       "115196778    250.01\n",
       "41606064        263\n",
       "18196434        414\n",
       "              ...  \n",
       "90751788      250.8\n",
       "125764160       285\n",
       "95780439        401\n",
       "30656952        250\n",
       "134647673       272\n",
       "58160520        276\n",
       "52419276        924\n",
       "47293812        428\n",
       "43686936        428\n",
       "183766055       402\n",
       "89955270        250\n",
       "33230016        250\n",
       "189481478       250\n",
       "106392411       250\n",
       "138784172       250\n",
       "175326800       486\n",
       "139605341       782\n",
       "184875899       731\n",
       "183087545    250.02\n",
       "188574944       518\n",
       "140199494       403\n",
       "181593374       511\n",
       "120975314       304\n",
       "86472243        250\n",
       "50375628        412\n",
       "100162476       458\n",
       "74694222        787\n",
       "41088789        296\n",
       "31693671        998\n",
       "175429310       787\n",
       "Name: diag_3, Length: 101766, dtype: object"
      ]
     },
     "execution_count": 16,
     "metadata": {},
     "output_type": "execute_result"
    }
   ],
   "source": [
    "df.pop('diag_3')"
   ]
  },
  {
   "cell_type": "code",
   "execution_count": 17,
   "metadata": {
    "scrolled": true
   },
   "outputs": [
    {
     "data": {
      "text/plain": [
       "patient_nbr\n",
       "8222157      Pediatrics-Endocrinology\n",
       "55629189                          NaN\n",
       "86047875                          NaN\n",
       "82442376                          NaN\n",
       "42519267                          NaN\n",
       "82637451                          NaN\n",
       "84259809                          NaN\n",
       "114882984                         NaN\n",
       "48330783                          NaN\n",
       "63555939             InternalMedicine\n",
       "89869032                          NaN\n",
       "77391171                          NaN\n",
       "85504905       Family/GeneralPractice\n",
       "77586282       Family/GeneralPractice\n",
       "49726791                          NaN\n",
       "86328819                          NaN\n",
       "92519352                          NaN\n",
       "108662661                  Cardiology\n",
       "107389323                         NaN\n",
       "69422211                          NaN\n",
       "22864131                          NaN\n",
       "21239181                          NaN\n",
       "63000108                          NaN\n",
       "107400762                         NaN\n",
       "62718876                          NaN\n",
       "21861756                          NaN\n",
       "40523301                   Cardiology\n",
       "115196778             Surgery-General\n",
       "41606064                          NaN\n",
       "18196434                   Cardiology\n",
       "                       ...           \n",
       "90751788                          NaN\n",
       "125764160                         NaN\n",
       "95780439                          NaN\n",
       "30656952                          NaN\n",
       "134647673                         NaN\n",
       "58160520                          NaN\n",
       "52419276                          NaN\n",
       "47293812             Emergency/Trauma\n",
       "43686936                          NaN\n",
       "183766055                         NaN\n",
       "89955270                          NaN\n",
       "33230016             InternalMedicine\n",
       "189481478                         NaN\n",
       "106392411                 Orthopedics\n",
       "138784172                         NaN\n",
       "175326800                         NaN\n",
       "139605341                         NaN\n",
       "184875899                         NaN\n",
       "183087545                         NaN\n",
       "188574944                         NaN\n",
       "140199494                         NaN\n",
       "181593374                         NaN\n",
       "120975314                         NaN\n",
       "86472243                          NaN\n",
       "50375628                          NaN\n",
       "100162476                         NaN\n",
       "74694222                          NaN\n",
       "41088789                          NaN\n",
       "31693671              Surgery-General\n",
       "175429310                         NaN\n",
       "Name: medical_specialty, Length: 101766, dtype: object"
      ]
     },
     "execution_count": 17,
     "metadata": {},
     "output_type": "execute_result"
    }
   ],
   "source": [
    "df.pop('medical_specialty')"
   ]
  },
  {
   "cell_type": "code",
   "execution_count": 18,
   "metadata": {},
   "outputs": [
    {
     "data": {
      "text/plain": [
       "patient_nbr\n",
       "8222157      No\n",
       "55629189     No\n",
       "86047875     No\n",
       "82442376     No\n",
       "42519267     No\n",
       "82637451     No\n",
       "84259809     No\n",
       "114882984    No\n",
       "48330783     No\n",
       "63555939     No\n",
       "89869032     No\n",
       "77391171     No\n",
       "85504905     No\n",
       "77586282     No\n",
       "49726791     No\n",
       "86328819     No\n",
       "92519352     No\n",
       "108662661    No\n",
       "107389323    No\n",
       "69422211     No\n",
       "22864131     No\n",
       "21239181     No\n",
       "63000108     No\n",
       "107400762    No\n",
       "62718876     No\n",
       "21861756     No\n",
       "40523301     No\n",
       "115196778    No\n",
       "41606064     No\n",
       "18196434     No\n",
       "             ..\n",
       "90751788     No\n",
       "125764160    No\n",
       "95780439     No\n",
       "30656952     No\n",
       "134647673    No\n",
       "58160520     No\n",
       "52419276     No\n",
       "47293812     No\n",
       "43686936     No\n",
       "183766055    No\n",
       "89955270     No\n",
       "33230016     No\n",
       "189481478    No\n",
       "106392411    No\n",
       "138784172    No\n",
       "175326800    No\n",
       "139605341    No\n",
       "184875899    No\n",
       "183087545    No\n",
       "188574944    No\n",
       "140199494    No\n",
       "181593374    No\n",
       "120975314    No\n",
       "86472243     No\n",
       "50375628     No\n",
       "100162476    No\n",
       "74694222     No\n",
       "41088789     No\n",
       "31693671     No\n",
       "175429310    No\n",
       "Name: examide, Length: 101766, dtype: object"
      ]
     },
     "execution_count": 18,
     "metadata": {},
     "output_type": "execute_result"
    }
   ],
   "source": [
    "df.pop('examide')"
   ]
  },
  {
   "cell_type": "code",
   "execution_count": 19,
   "metadata": {},
   "outputs": [
    {
     "data": {
      "text/plain": [
       "patient_nbr\n",
       "8222157      No\n",
       "55629189     No\n",
       "86047875     No\n",
       "82442376     No\n",
       "42519267     No\n",
       "82637451     No\n",
       "84259809     No\n",
       "114882984    No\n",
       "48330783     No\n",
       "63555939     No\n",
       "89869032     No\n",
       "77391171     No\n",
       "85504905     No\n",
       "77586282     No\n",
       "49726791     No\n",
       "86328819     No\n",
       "92519352     No\n",
       "108662661    No\n",
       "107389323    No\n",
       "69422211     No\n",
       "22864131     No\n",
       "21239181     No\n",
       "63000108     No\n",
       "107400762    No\n",
       "62718876     No\n",
       "21861756     No\n",
       "40523301     No\n",
       "115196778    No\n",
       "41606064     No\n",
       "18196434     No\n",
       "             ..\n",
       "90751788     No\n",
       "125764160    No\n",
       "95780439     No\n",
       "30656952     No\n",
       "134647673    No\n",
       "58160520     No\n",
       "52419276     No\n",
       "47293812     No\n",
       "43686936     No\n",
       "183766055    No\n",
       "89955270     No\n",
       "33230016     No\n",
       "189481478    No\n",
       "106392411    No\n",
       "138784172    No\n",
       "175326800    No\n",
       "139605341    No\n",
       "184875899    No\n",
       "183087545    No\n",
       "188574944    No\n",
       "140199494    No\n",
       "181593374    No\n",
       "120975314    No\n",
       "86472243     No\n",
       "50375628     No\n",
       "100162476    No\n",
       "74694222     No\n",
       "41088789     No\n",
       "31693671     No\n",
       "175429310    No\n",
       "Name: citoglipton, Length: 101766, dtype: object"
      ]
     },
     "execution_count": 19,
     "metadata": {},
     "output_type": "execute_result"
    }
   ],
   "source": [
    "df.pop('citoglipton')"
   ]
  },
  {
   "cell_type": "code",
   "execution_count": 20,
   "metadata": {},
   "outputs": [],
   "source": [
    "df = df.loc[~df.discharge_disposition_id.isin([11,13,14,19,20,21])]"
   ]
  },
  {
   "cell_type": "code",
   "execution_count": 21,
   "metadata": {},
   "outputs": [],
   "source": [
    "from sklearn.preprocessing import LabelEncoder"
   ]
  },
  {
   "cell_type": "code",
   "execution_count": 22,
   "metadata": {},
   "outputs": [],
   "source": [
    "lb = LabelEncoder()"
   ]
  },
  {
   "cell_type": "code",
   "execution_count": 23,
   "metadata": {},
   "outputs": [],
   "source": [
    "x = df.iloc[:,0:38].values"
   ]
  },
  {
   "cell_type": "code",
   "execution_count": 24,
   "metadata": {},
   "outputs": [],
   "source": [
    "x[:,0] = lb.fit_transform(x[:,0])  ##gender"
   ]
  },
  {
   "cell_type": "code",
   "execution_count": 25,
   "metadata": {},
   "outputs": [],
   "source": [
    "x[:,13] = lb.fit_transform(x[:,13]) "
   ]
  },
  {
   "cell_type": "code",
   "execution_count": 26,
   "metadata": {},
   "outputs": [],
   "source": [
    "x[:,14] = lb.fit_transform(x[:,14])  ###"
   ]
  },
  {
   "cell_type": "code",
   "execution_count": 27,
   "metadata": {},
   "outputs": [],
   "source": [
    "x[:,15] = lb.fit_transform(x[:,15])  ##discharge"
   ]
  },
  {
   "cell_type": "code",
   "execution_count": 28,
   "metadata": {},
   "outputs": [],
   "source": [
    "x[:,16] = lb.fit_transform(x[:,16])  ##admission_source_id"
   ]
  },
  {
   "cell_type": "code",
   "execution_count": 29,
   "metadata": {},
   "outputs": [],
   "source": [
    "x[:,17] = lb.fit_transform(x[:,17])  ##time in hourd"
   ]
  },
  {
   "cell_type": "code",
   "execution_count": 30,
   "metadata": {},
   "outputs": [],
   "source": [
    "x[:,18] = lb.fit_transform(x[:,18])   ##payer_code"
   ]
  },
  {
   "cell_type": "code",
   "execution_count": 31,
   "metadata": {},
   "outputs": [],
   "source": [
    "x[:,19] = lb.fit_transform(x[:,19])   ###medical_speciality"
   ]
  },
  {
   "cell_type": "code",
   "execution_count": 32,
   "metadata": {},
   "outputs": [],
   "source": [
    "x[:,20] = lb.fit_transform(x[:,20])    ##num_lab_procedure"
   ]
  },
  {
   "cell_type": "code",
   "execution_count": 33,
   "metadata": {},
   "outputs": [],
   "source": [
    "x[:,21] = lb.fit_transform(x[:,21])   ###num_procedures"
   ]
  },
  {
   "cell_type": "code",
   "execution_count": 34,
   "metadata": {},
   "outputs": [],
   "source": [
    "x[:,22] = lb.fit_transform(x[:,22])   ###num_medication"
   ]
  },
  {
   "cell_type": "code",
   "execution_count": 35,
   "metadata": {},
   "outputs": [],
   "source": [
    "x[:,23] = lb.fit_transform(x[:,23])     ####number_outptient"
   ]
  },
  {
   "cell_type": "code",
   "execution_count": 36,
   "metadata": {},
   "outputs": [],
   "source": [
    "x[:,24] = lb.fit_transform(x[:,24])   ###emergency"
   ]
  },
  {
   "cell_type": "code",
   "execution_count": 37,
   "metadata": {},
   "outputs": [],
   "source": [
    "x[:,25] = lb.fit_transform(x[:,25])    ###inpatient"
   ]
  },
  {
   "cell_type": "code",
   "execution_count": 38,
   "metadata": {},
   "outputs": [],
   "source": [
    "x[:,26] = lb.fit_transform(x[:,26])       ###diag_1"
   ]
  },
  {
   "cell_type": "code",
   "execution_count": 39,
   "metadata": {},
   "outputs": [],
   "source": [
    "x[:,27] = lb.fit_transform(x[:,27])       ###diag_1"
   ]
  },
  {
   "cell_type": "code",
   "execution_count": 40,
   "metadata": {},
   "outputs": [],
   "source": [
    "x[:,28] = lb.fit_transform(x[:,28])       ###diag_1"
   ]
  },
  {
   "cell_type": "code",
   "execution_count": 41,
   "metadata": {},
   "outputs": [],
   "source": [
    "x[:,29] = lb.fit_transform(x[:,29])       ###diag_1"
   ]
  },
  {
   "cell_type": "code",
   "execution_count": 42,
   "metadata": {},
   "outputs": [],
   "source": [
    "x[:,30] = lb.fit_transform(x[:,30])       ###diag_1"
   ]
  },
  {
   "cell_type": "code",
   "execution_count": 43,
   "metadata": {},
   "outputs": [],
   "source": [
    "x[:,31] = lb.fit_transform(x[:,31])       ###diag_1"
   ]
  },
  {
   "cell_type": "code",
   "execution_count": 44,
   "metadata": {},
   "outputs": [],
   "source": [
    "x[:,32] = lb.fit_transform(x[:,32])       ###diag_1"
   ]
  },
  {
   "cell_type": "code",
   "execution_count": 45,
   "metadata": {},
   "outputs": [],
   "source": [
    "x[:,33] = lb.fit_transform(x[:,33])       ###diag_1"
   ]
  },
  {
   "cell_type": "code",
   "execution_count": 46,
   "metadata": {},
   "outputs": [],
   "source": [
    "x[:,34] = lb.fit_transform(x[:,34])       ###diag_1"
   ]
  },
  {
   "cell_type": "code",
   "execution_count": 47,
   "metadata": {},
   "outputs": [],
   "source": [
    "x[:,35] = lb.fit_transform(x[:,35])       ###diag_1"
   ]
  },
  {
   "cell_type": "code",
   "execution_count": 48,
   "metadata": {},
   "outputs": [],
   "source": [
    "x[:,36] = lb.fit_transform(x[:,36])       ###diag_1"
   ]
  },
  {
   "cell_type": "code",
   "execution_count": 49,
   "metadata": {},
   "outputs": [],
   "source": [
    "x[:,37] = lb.fit_transform(x[:,37])       ###diag_1"
   ]
  },
  {
   "cell_type": "code",
   "execution_count": 50,
   "metadata": {},
   "outputs": [
    {
     "data": {
      "text/plain": [
       "array([[0, 0, 6, ..., 0, 1, 0],\n",
       "       [0, 10, 1, ..., 0, 0, 1],\n",
       "       [0, 20, 1, ..., 0, 1, 1],\n",
       "       ...,\n",
       "       [1, 70, 1, ..., 0, 0, 1],\n",
       "       [0, 80, 2, ..., 0, 0, 1],\n",
       "       [1, 70, 1, ..., 0, 1, 0]], dtype=object)"
      ]
     },
     "execution_count": 50,
     "metadata": {},
     "output_type": "execute_result"
    }
   ],
   "source": [
    "x"
   ]
  },
  {
   "cell_type": "code",
   "execution_count": 51,
   "metadata": {},
   "outputs": [],
   "source": [
    "y=df.iloc[:,38].values"
   ]
  },
  {
   "cell_type": "code",
   "execution_count": 52,
   "metadata": {},
   "outputs": [
    {
     "data": {
      "text/plain": [
       "array(['NO', '>30', 'NO', ..., 'NO', 'NO', 'NO'], dtype=object)"
      ]
     },
     "execution_count": 52,
     "metadata": {},
     "output_type": "execute_result"
    }
   ],
   "source": [
    "y"
   ]
  },
  {
   "cell_type": "code",
   "execution_count": 53,
   "metadata": {},
   "outputs": [
    {
     "data": {
      "text/plain": [
       "array(['No', 'Yes'], dtype=object)"
      ]
     },
     "execution_count": 53,
     "metadata": {},
     "output_type": "execute_result"
    }
   ],
   "source": [
    "lb.classes_"
   ]
  },
  {
   "cell_type": "code",
   "execution_count": 54,
   "metadata": {},
   "outputs": [],
   "source": [
    "y = lb.fit_transform(y)"
   ]
  },
  {
   "cell_type": "code",
   "execution_count": 55,
   "metadata": {},
   "outputs": [],
   "source": [
    "from sklearn.model_selection import train_test_split\n",
    "x_train, x_test, y_train, y_test = train_test_split(x,y,test_size = 0.2,random_state=0)"
   ]
  },
  {
   "cell_type": "code",
   "execution_count": 56,
   "metadata": {},
   "outputs": [
    {
     "name": "stderr",
     "output_type": "stream",
     "text": [
      "C:\\ProgramData\\Anaconda3\\lib\\site-packages\\sklearn\\utils\\validation.py:595: DataConversionWarning: Data with input dtype object was converted to float64 by StandardScaler.\n",
      "  warnings.warn(msg, DataConversionWarning)\n",
      "C:\\ProgramData\\Anaconda3\\lib\\site-packages\\sklearn\\utils\\validation.py:595: DataConversionWarning: Data with input dtype object was converted to float64 by StandardScaler.\n",
      "  warnings.warn(msg, DataConversionWarning)\n",
      "C:\\ProgramData\\Anaconda3\\lib\\site-packages\\sklearn\\utils\\validation.py:595: DataConversionWarning: Data with input dtype object was converted to float64 by StandardScaler.\n",
      "  warnings.warn(msg, DataConversionWarning)\n"
     ]
    }
   ],
   "source": [
    "from sklearn.preprocessing import StandardScaler  \n",
    "sc=StandardScaler()\n",
    "x_train = sc.fit_transform(x_train)  ## finding out the best value and transforming\n",
    "x_test = sc.transform(x_test)   ## here again we use fit then the best value which we found out in the x_train wich is stored in sc will be modified which we dont want"
   ]
  },
  {
   "cell_type": "code",
   "execution_count": 57,
   "metadata": {},
   "outputs": [],
   "source": [
    "import keras\n",
    "from keras.models import Sequential\n",
    "from keras.layers import Dense"
   ]
  },
  {
   "cell_type": "code",
   "execution_count": 58,
   "metadata": {},
   "outputs": [
    {
     "name": "stdout",
     "output_type": "stream",
     "text": [
      "WARNING:tensorflow:From C:\\ProgramData\\Anaconda3\\lib\\site-packages\\tensorflow\\python\\framework\\op_def_library.py:263: colocate_with (from tensorflow.python.framework.ops) is deprecated and will be removed in a future version.\n",
      "Instructions for updating:\n",
      "Colocations handled automatically by placer.\n"
     ]
    }
   ],
   "source": [
    "\n",
    "model=Sequential()\n",
    "model.add(Dense(10,input_dim=38))\n",
    "model.add(Dense(100,activation = 'softmax'))\n",
    "model.add(Dense(100,activation = 'softmax'))\n",
    "\n",
    "model.add(Dense(3,activation = 'softmax'))\n",
    "model.compile(loss='categorical_crossentropy',optimizer='adam',metrics=['accuracy']) \n",
    "       # for regression no need of activation function\n"
   ]
  },
  {
   "cell_type": "code",
   "execution_count": 59,
   "metadata": {},
   "outputs": [],
   "source": [
    "from keras.utils import to_categorical\n",
    "y_train = to_categorical(y_train)"
   ]
  },
  {
   "cell_type": "code",
   "execution_count": 60,
   "metadata": {
    "scrolled": true
   },
   "outputs": [
    {
     "name": "stdout",
     "output_type": "stream",
     "text": [
      "WARNING:tensorflow:From C:\\ProgramData\\Anaconda3\\lib\\site-packages\\tensorflow\\python\\ops\\math_ops.py:3066: to_int32 (from tensorflow.python.ops.math_ops) is deprecated and will be removed in a future version.\n",
      "Instructions for updating:\n",
      "Use tf.cast instead.\n",
      "Epoch 1/100\n",
      "79474/79474 [==============================] - 8s 95us/step - loss: 0.9347 - acc: 0.5525\n",
      "Epoch 2/100\n",
      "79474/79474 [==============================] - 7s 82us/step - loss: 0.9075 - acc: 0.5705\n",
      "Epoch 3/100\n",
      "79474/79474 [==============================] - 6s 82us/step - loss: 0.9053 - acc: 0.5701\n",
      "Epoch 4/100\n",
      "79474/79474 [==============================] - 6s 81us/step - loss: 0.9039 - acc: 0.5710\n",
      "Epoch 5/100\n",
      "79474/79474 [==============================] - 6s 81us/step - loss: 0.9027 - acc: 0.5717\n",
      "Epoch 6/100\n",
      "79474/79474 [==============================] - 6s 81us/step - loss: 0.9017 - acc: 0.5725\n",
      "Epoch 7/100\n",
      "79474/79474 [==============================] - 6s 82us/step - loss: 0.9008 - acc: 0.5729\n",
      "Epoch 8/100\n",
      "79474/79474 [==============================] - 6s 78us/step - loss: 0.9002 - acc: 0.5732\n",
      "Epoch 9/100\n",
      "79474/79474 [==============================] - 5s 69us/step - loss: 0.8993 - acc: 0.5742\n",
      "Epoch 10/100\n",
      "79474/79474 [==============================] - 6s 73us/step - loss: 0.8983 - acc: 0.5747\n",
      "Epoch 11/100\n",
      "79474/79474 [==============================] - 6s 71us/step - loss: 0.8975 - acc: 0.5750\n",
      "Epoch 12/100\n",
      "79474/79474 [==============================] - 6s 69us/step - loss: 0.8968 - acc: 0.5741\n",
      "Epoch 13/100\n",
      "79474/79474 [==============================] - 6s 70us/step - loss: 0.8961 - acc: 0.5754\n",
      "Epoch 14/100\n",
      "79474/79474 [==============================] - 6s 70us/step - loss: 0.8955 - acc: 0.5757\n",
      "Epoch 15/100\n",
      "79474/79474 [==============================] - 6s 69us/step - loss: 0.8951 - acc: 0.5765\n",
      "Epoch 16/100\n",
      "79474/79474 [==============================] - 5s 69us/step - loss: 0.8945 - acc: 0.5768\n",
      "Epoch 17/100\n",
      "79474/79474 [==============================] - 5s 69us/step - loss: 0.8940 - acc: 0.5769\n",
      "Epoch 18/100\n",
      "79474/79474 [==============================] - 6s 70us/step - loss: 0.8935 - acc: 0.5765\n",
      "Epoch 19/100\n",
      "79474/79474 [==============================] - 6s 70us/step - loss: 0.8934 - acc: 0.5770\n",
      "Epoch 20/100\n",
      "79474/79474 [==============================] - 5s 68us/step - loss: 0.8929 - acc: 0.5780\n",
      "Epoch 21/100\n",
      "79474/79474 [==============================] - 5s 68us/step - loss: 0.8927 - acc: 0.5773\n",
      "Epoch 22/100\n",
      "79474/79474 [==============================] - 5s 69us/step - loss: 0.8921 - acc: 0.5777\n",
      "Epoch 23/100\n",
      "79474/79474 [==============================] - 5s 68us/step - loss: 0.8918 - acc: 0.5789\n",
      "Epoch 24/100\n",
      "79474/79474 [==============================] - 5s 68us/step - loss: 0.8914 - acc: 0.5788\n",
      "Epoch 25/100\n",
      "79474/79474 [==============================] - 5s 68us/step - loss: 0.8911 - acc: 0.5797\n",
      "Epoch 26/100\n",
      "79474/79474 [==============================] - 5s 68us/step - loss: 0.8909 - acc: 0.5794\n",
      "Epoch 27/100\n",
      "79474/79474 [==============================] - 5s 68us/step - loss: 0.8905 - acc: 0.5793\n",
      "Epoch 28/100\n",
      "79474/79474 [==============================] - 5s 68us/step - loss: 0.8904 - acc: 0.5796\n",
      "Epoch 29/100\n",
      "79474/79474 [==============================] - 5s 68us/step - loss: 0.8902 - acc: 0.5799\n",
      "Epoch 30/100\n",
      "79474/79474 [==============================] - 5s 68us/step - loss: 0.8897 - acc: 0.5803\n",
      "Epoch 31/100\n",
      "79474/79474 [==============================] - 5s 67us/step - loss: 0.8894 - acc: 0.5805\n",
      "Epoch 32/100\n",
      "79474/79474 [==============================] - 5s 68us/step - loss: 0.8890 - acc: 0.5801\n",
      "Epoch 33/100\n",
      "79474/79474 [==============================] - 5s 68us/step - loss: 0.8890 - acc: 0.5804\n",
      "Epoch 34/100\n",
      "79474/79474 [==============================] - 5s 68us/step - loss: 0.8887 - acc: 0.5810\n",
      "Epoch 35/100\n",
      "79474/79474 [==============================] - 5s 67us/step - loss: 0.8884 - acc: 0.5801\n",
      "Epoch 36/100\n",
      "79474/79474 [==============================] - 5s 67us/step - loss: 0.8880 - acc: 0.5810\n",
      "Epoch 37/100\n",
      "79474/79474 [==============================] - 5s 67us/step - loss: 0.8879 - acc: 0.5816\n",
      "Epoch 38/100\n",
      "79474/79474 [==============================] - 5s 67us/step - loss: 0.8876 - acc: 0.5814\n",
      "Epoch 39/100\n",
      "79474/79474 [==============================] - 5s 66us/step - loss: 0.8875 - acc: 0.5814\n",
      "Epoch 40/100\n",
      "79474/79474 [==============================] - 5s 67us/step - loss: 0.8870 - acc: 0.5819\n",
      "Epoch 41/100\n",
      "79474/79474 [==============================] - 5s 67us/step - loss: 0.8869 - acc: 0.5818\n",
      "Epoch 42/100\n",
      "79474/79474 [==============================] - 5s 66us/step - loss: 0.8865 - acc: 0.5829\n",
      "Epoch 43/100\n",
      "79474/79474 [==============================] - 5s 66us/step - loss: 0.8863 - acc: 0.5829\n",
      "Epoch 44/100\n",
      "79474/79474 [==============================] - 5s 66us/step - loss: 0.8861 - acc: 0.5835\n",
      "Epoch 45/100\n",
      "79474/79474 [==============================] - 5s 65us/step - loss: 0.8859 - acc: 0.5835\n",
      "Epoch 46/100\n",
      "79474/79474 [==============================] - 5s 66us/step - loss: 0.8857 - acc: 0.5824\n",
      "Epoch 47/100\n",
      "79474/79474 [==============================] - 5s 65us/step - loss: 0.8855 - acc: 0.5833\n",
      "Epoch 48/100\n",
      "79474/79474 [==============================] - 5s 65us/step - loss: 0.8853 - acc: 0.5840\n",
      "Epoch 49/100\n",
      "79474/79474 [==============================] - 5s 67us/step - loss: 0.8851 - acc: 0.5837\n",
      "Epoch 50/100\n",
      "79474/79474 [==============================] - 5s 64us/step - loss: 0.8850 - acc: 0.5842\n",
      "Epoch 51/100\n",
      "79474/79474 [==============================] - 5s 64us/step - loss: 0.8847 - acc: 0.5833\n",
      "Epoch 52/100\n",
      "79474/79474 [==============================] - 6s 69us/step - loss: 0.8845 - acc: 0.5831\n",
      "Epoch 53/100\n",
      "79474/79474 [==============================] - 5s 65us/step - loss: 0.8843 - acc: 0.5843\n",
      "Epoch 54/100\n",
      "79474/79474 [==============================] - 6s 73us/step - loss: 0.8839 - acc: 0.5842\n",
      "Epoch 55/100\n",
      "79474/79474 [==============================] - 8s 101us/step - loss: 0.8839 - acc: 0.5843\n",
      "Epoch 56/100\n",
      "79474/79474 [==============================] - 6s 72us/step - loss: 0.8838 - acc: 0.5844\n",
      "Epoch 57/100\n",
      "79474/79474 [==============================] - 5s 67us/step - loss: 0.8834 - acc: 0.5847\n",
      "Epoch 58/100\n",
      "79474/79474 [==============================] - 5s 66us/step - loss: 0.8834 - acc: 0.5851\n",
      "Epoch 59/100\n",
      "79474/79474 [==============================] - 5s 65us/step - loss: 0.8829 - acc: 0.5852\n",
      "Epoch 60/100\n",
      "79474/79474 [==============================] - 6s 69us/step - loss: 0.8829 - acc: 0.5842\n",
      "Epoch 61/100\n",
      "79474/79474 [==============================] - 6s 70us/step - loss: 0.8828 - acc: 0.5854\n",
      "Epoch 62/100\n",
      "79474/79474 [==============================] - 5s 69us/step - loss: 0.8826 - acc: 0.5847\n",
      "Epoch 63/100\n",
      "79474/79474 [==============================] - 6s 70us/step - loss: 0.8824 - acc: 0.5854\n",
      "Epoch 64/100\n",
      "79474/79474 [==============================] - 6s 72us/step - loss: 0.8823 - acc: 0.5851\n",
      "Epoch 65/100\n",
      "79474/79474 [==============================] - 7s 90us/step - loss: 0.8821 - acc: 0.5845\n",
      "Epoch 66/100\n",
      "79474/79474 [==============================] - 6s 71us/step - loss: 0.8820 - acc: 0.5855\n",
      "Epoch 67/100\n",
      "79474/79474 [==============================] - 6s 70us/step - loss: 0.8819 - acc: 0.5854\n",
      "Epoch 68/100\n",
      "79474/79474 [==============================] - 5s 65us/step - loss: 0.8819 - acc: 0.5856\n",
      "Epoch 69/100\n",
      "79474/79474 [==============================] - 5s 65us/step - loss: 0.8815 - acc: 0.5858\n",
      "Epoch 70/100\n",
      "79474/79474 [==============================] - 5s 63us/step - loss: 0.8813 - acc: 0.5859\n",
      "Epoch 71/100\n",
      "79474/79474 [==============================] - 5s 64us/step - loss: 0.8812 - acc: 0.5860\n",
      "Epoch 72/100\n",
      "79474/79474 [==============================] - 5s 63us/step - loss: 0.8809 - acc: 0.5852\n",
      "Epoch 73/100\n",
      "79474/79474 [==============================] - 5s 63us/step - loss: 0.8808 - acc: 0.5859\n",
      "Epoch 74/100\n",
      "79474/79474 [==============================] - 5s 64us/step - loss: 0.8807 - acc: 0.5865\n",
      "Epoch 75/100\n",
      "79474/79474 [==============================] - 5s 63us/step - loss: 0.8807 - acc: 0.5864\n",
      "Epoch 76/100\n",
      "79474/79474 [==============================] - 5s 63us/step - loss: 0.8805 - acc: 0.5857\n",
      "Epoch 77/100\n",
      "79474/79474 [==============================] - 5s 66us/step - loss: 0.8805 - acc: 0.5861\n",
      "Epoch 78/100\n"
     ]
    },
    {
     "name": "stdout",
     "output_type": "stream",
     "text": [
      "79474/79474 [==============================] - 6s 72us/step - loss: 0.8802 - acc: 0.5867\n",
      "Epoch 79/100\n",
      "79474/79474 [==============================] - 6s 72us/step - loss: 0.8800 - acc: 0.5860\n",
      "Epoch 80/100\n",
      "79474/79474 [==============================] - 6s 72us/step - loss: 0.8801 - acc: 0.5868\n",
      "Epoch 81/100\n",
      "79474/79474 [==============================] - 6s 72us/step - loss: 0.8797 - acc: 0.5873\n",
      "Epoch 82/100\n",
      "79474/79474 [==============================] - 6s 72us/step - loss: 0.8797 - acc: 0.5868\n",
      "Epoch 83/100\n",
      "79474/79474 [==============================] - 6s 71us/step - loss: 0.8794 - acc: 0.5867\n",
      "Epoch 84/100\n",
      "79474/79474 [==============================] - 6s 70us/step - loss: 0.8794 - acc: 0.5868\n",
      "Epoch 85/100\n",
      "79474/79474 [==============================] - 6s 71us/step - loss: 0.8793 - acc: 0.5863\n",
      "Epoch 86/100\n",
      "79474/79474 [==============================] - 6s 70us/step - loss: 0.8792 - acc: 0.5876\n",
      "Epoch 87/100\n",
      "79474/79474 [==============================] - 6s 70us/step - loss: 0.8788 - acc: 0.5862\n",
      "Epoch 88/100\n",
      "79474/79474 [==============================] - 6s 70us/step - loss: 0.8789 - acc: 0.5875\n",
      "Epoch 89/100\n",
      "79474/79474 [==============================] - 6s 71us/step - loss: 0.8786 - acc: 0.5874\n",
      "Epoch 90/100\n",
      "79474/79474 [==============================] - 6s 71us/step - loss: 0.8787 - acc: 0.5869\n",
      "Epoch 91/100\n",
      "79474/79474 [==============================] - 6s 71us/step - loss: 0.8784 - acc: 0.5888\n",
      "Epoch 92/100\n",
      "79474/79474 [==============================] - 6s 70us/step - loss: 0.8784 - acc: 0.5879\n",
      "Epoch 93/100\n",
      "79474/79474 [==============================] - 6s 70us/step - loss: 0.8782 - acc: 0.5874\n",
      "Epoch 94/100\n",
      "79474/79474 [==============================] - 6s 70us/step - loss: 0.8780 - acc: 0.5880\n",
      "Epoch 95/100\n",
      "79474/79474 [==============================] - 6s 71us/step - loss: 0.8780 - acc: 0.5883\n",
      "Epoch 96/100\n",
      "79474/79474 [==============================] - 6s 70us/step - loss: 0.8779 - acc: 0.5879\n",
      "Epoch 97/100\n",
      "79474/79474 [==============================] - 6s 70us/step - loss: 0.8777 - acc: 0.5882\n",
      "Epoch 98/100\n",
      "79474/79474 [==============================] - 6s 71us/step - loss: 0.8774 - acc: 0.5885\n",
      "Epoch 99/100\n",
      "79474/79474 [==============================] - 6s 70us/step - loss: 0.8773 - acc: 0.5886\n",
      "Epoch 100/100\n",
      "79474/79474 [==============================] - 6s 70us/step - loss: 0.8774 - acc: 0.5881\n"
     ]
    },
    {
     "data": {
      "text/plain": [
       "<keras.callbacks.History at 0x20cb29e2ba8>"
      ]
     },
     "execution_count": 60,
     "metadata": {},
     "output_type": "execute_result"
    }
   ],
   "source": [
    "model.fit(x_train,y_train,epochs= 100,batch_size = 32)"
   ]
  },
  {
   "cell_type": "code",
   "execution_count": 61,
   "metadata": {},
   "outputs": [
    {
     "data": {
      "text/plain": [
       "array([[0., 0., 1.],\n",
       "       [0., 0., 1.],\n",
       "       [0., 1., 0.],\n",
       "       ...,\n",
       "       [0., 0., 1.],\n",
       "       [0., 1., 0.],\n",
       "       [0., 0., 1.]], dtype=float32)"
      ]
     },
     "execution_count": 61,
     "metadata": {},
     "output_type": "execute_result"
    }
   ],
   "source": [
    "y_train"
   ]
  },
  {
   "cell_type": "code",
   "execution_count": 62,
   "metadata": {},
   "outputs": [],
   "source": [
    "y_pred = model.predict(x_train[0:1])"
   ]
  },
  {
   "cell_type": "code",
   "execution_count": 63,
   "metadata": {},
   "outputs": [],
   "source": [
    "y_pred = model.predict_classes(x_train[0:1])"
   ]
  },
  {
   "cell_type": "code",
   "execution_count": 64,
   "metadata": {},
   "outputs": [
    {
     "data": {
      "text/plain": [
       "array([2], dtype=int64)"
      ]
     },
     "execution_count": 64,
     "metadata": {},
     "output_type": "execute_result"
    }
   ],
   "source": [
    "y_pred"
   ]
  },
  {
   "cell_type": "markdown",
   "metadata": {},
   "source": []
  },
  {
   "cell_type": "code",
   "execution_count": 65,
   "metadata": {},
   "outputs": [],
   "source": [
    "model.save(\"project.h5\")"
   ]
  }
 ],
 "metadata": {
  "kernelspec": {
   "display_name": "Python 3",
   "language": "python",
   "name": "python3"
  },
  "language_info": {
   "codemirror_mode": {
    "name": "ipython",
    "version": 3
   },
   "file_extension": ".py",
   "mimetype": "text/x-python",
   "name": "python",
   "nbconvert_exporter": "python",
   "pygments_lexer": "ipython3",
   "version": "3.7.3"
  }
 },
 "nbformat": 4,
 "nbformat_minor": 2
}
