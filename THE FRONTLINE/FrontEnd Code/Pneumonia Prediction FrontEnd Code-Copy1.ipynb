{
 "cells": [
  {
   "cell_type": "code",
   "execution_count": null,
   "metadata": {},
   "outputs": [
    {
     "name": "stderr",
     "output_type": "stream",
     "text": [
      "Using TensorFlow backend.\n"
     ]
    },
    {
     "name": "stdout",
     "output_type": "stream",
     "text": [
      "WARNING:tensorflow:From E:\\applications\\python\\lib\\site-packages\\tensorflow\\python\\framework\\op_def_library.py:263: colocate_with (from tensorflow.python.framework.ops) is deprecated and will be removed in a future version.\n",
      "Instructions for updating:\n",
      "Colocations handled automatically by placer.\n",
      "WARNING:tensorflow:From E:\\applications\\python\\lib\\site-packages\\tensorflow\\python\\ops\\math_ops.py:3066: to_int32 (from tensorflow.python.ops.math_ops) is deprecated and will be removed in a future version.\n",
      "Instructions for updating:\n",
      "Use tf.cast instead.\n",
      "frame1\n"
     ]
    },
    {
     "name": "stderr",
     "output_type": "stream",
     "text": [
      "Exception in Tkinter callback\n",
      "Traceback (most recent call last):\n",
      "  File \"E:\\applications\\python\\lib\\site-packages\\PIL\\Image.py\", line 2638, in open\n",
      "    fp.seek(0)\n",
      "AttributeError: 'str' object has no attribute 'seek'\n",
      "\n",
      "During handling of the above exception, another exception occurred:\n",
      "\n",
      "Traceback (most recent call last):\n",
      "  File \"E:\\applications\\python\\lib\\tkinter\\__init__.py\", line 1705, in __call__\n",
      "    return self.func(*args)\n",
      "  File \"<ipython-input-1-3bb1297a9db8>\", line 22, in open_img\n",
      "    test_image = image.load_img(x, target_size = (64, 64))\n",
      "  File \"E:\\applications\\python\\lib\\site-packages\\keras_preprocessing\\image\\utils.py\", line 104, in load_img\n",
      "    img = pil_image.open(path)\n",
      "  File \"E:\\applications\\python\\lib\\site-packages\\PIL\\Image.py\", line 2640, in open\n",
      "    fp = io.BytesIO(fp.read())\n",
      "AttributeError: 'str' object has no attribute 'read'\n"
     ]
    },
    {
     "name": "stdout",
     "output_type": "stream",
     "text": [
      "[[0]]\n",
      "[[0]]\n",
      "[[0]]\n"
     ]
    }
   ],
   "source": [
    "import numpy as np\n",
    "from keras.preprocessing import image\n",
    "\n",
    "from tkinter import *\n",
    "from PIL import ImageTk, Image\n",
    "from tkinter import filedialog\n",
    "import os\n",
    "from keras.models import load_model\n",
    "\n",
    "classifier = load_model('chestxray.h5')\n",
    "classifier.compile(optimizer = 'adam', loss = 'binary_crossentropy', metrics = ['accuracy'])\n",
    "top = Tk()\n",
    "top.geometry(\"550x450+400+150\")\n",
    "top.resizable(width=True, height=True)\n",
    "top.configure(background=\"#fffdd0\")\n",
    "\n",
    "def openfn():\n",
    "    filename = filedialog.askopenfilename(title='open')\n",
    "    return filename\n",
    "def open_img():\n",
    "    x = openfn()\n",
    "    test_image = image.load_img(x, target_size = (64, 64))\n",
    "    test_image = image.img_to_array(test_image)\n",
    "    test_image = np.expand_dims(test_image, axis = 0)\n",
    "    result = classifier.predict_classes(test_image)\n",
    "    print(result)\n",
    "    index=['The patient is not suffering from Pneumonia','The patient is suffering from Pneumonia']\n",
    "    label = Label(top, text=\"Result: \"+str(index[result[0][0]]))\n",
    "    label.pack()\n",
    "    img = Image.open(x)\n",
    "    img = img.resize((250, 250), Image.ANTIALIAS)\n",
    "    img = ImageTk.PhotoImage(img)\n",
    "    panel = Label(top, image=img)\n",
    "    panel.image = img\n",
    "    panel.pack()\n",
    "###########\n",
    "def name():\n",
    "    name=entry1.pack(fill=BOTH,padx=5,expand=True)\n",
    "    print(name)\n",
    "    label2=label(top,text=\"Patient Name\"+atr(entry1[name[0][0]])).pack()\n",
    "#########################################\n",
    "frame1=Frame(top)\n",
    "frame1.pack(fill=BOTH)\n",
    "\n",
    "L1=Label(frame1, text=\"PATIENT NAME\",width=25,fg=\"blue\",bg=\"#fffdd0\")                 #label created with title \"PATIENT NAME\"\n",
    "L1.pack(side=LEFT,padx=5,pady=5)\n",
    "\n",
    "entry1=Entry(frame1)                                           #entry box created to take input of \"PATIENT NAME\"\n",
    "entry1.pack(fill=BOTH,padx=5,expand=True)\n",
    "print('frame1')\n",
    "############\n",
    "frame2=Frame(top)\n",
    "frame2.pack(fill=BOTH,expand=False)\n",
    "\n",
    "L2=Label(frame2,text=\"AGE\",width=25,bg=\"#fffdd0\",fg=\"blue\")                           #label created \"AGE\"\n",
    "L2.pack(side=LEFT,padx=5,pady=5)\n",
    "\n",
    "entry2=Spinbox(frame2,from_=0,to=100)                          #spinbox range \"0-100\"\n",
    "entry2.pack(fill=BOTH,padx=5,expand=True)\n",
    "###################\n",
    "#        creating frame 3 (gender) using radiobuttons tool\n",
    "frame3=Frame(top)\n",
    "frame3.pack(fill=BOTH,expand=False)\n",
    "\n",
    "L3=Label(frame3,text=\"GENDER\",width=25,bg=\"#fffdd0\",fg=\"blue\")\n",
    "L3.pack(side=LEFT,padx=5,pady=5)\n",
    "\n",
    "option1=Radiobutton(frame3,text=\"MALE\",padx=20,value=1)                           #radiobutton \"MALE\"\n",
    "option1.pack(anchor=W)\n",
    "option2=Radiobutton(frame3,text=\"FEMALE\",padx=20,value=2).pack(anchor=W)  \n",
    "###################\n",
    "top.title('THE FRONTLINE(Pneumonia Detection)')\n",
    "Label(top,text=\"Please uplaod your X-ray:\",font=\"arial\",bg=\"#fffdd0\").pack()\n",
    "btn = Button(top, text='UPLOAD X-ray', relief=RAISED,cursor=\"plus\", command=open_img).pack()\n",
    "\n",
    "\n",
    "top.mainloop()"
   ]
  },
  {
   "cell_type": "code",
   "execution_count": null,
   "metadata": {},
   "outputs": [],
   "source": []
  },
  {
   "cell_type": "code",
   "execution_count": null,
   "metadata": {},
   "outputs": [],
   "source": []
  },
  {
   "cell_type": "code",
   "execution_count": null,
   "metadata": {},
   "outputs": [],
   "source": []
  },
  {
   "cell_type": "code",
   "execution_count": null,
   "metadata": {},
   "outputs": [],
   "source": []
  }
 ],
 "metadata": {
  "kernelspec": {
   "display_name": "Python 3",
   "language": "python",
   "name": "python3"
  },
  "language_info": {
   "codemirror_mode": {
    "name": "ipython",
    "version": 3
   },
   "file_extension": ".py",
   "mimetype": "text/x-python",
   "name": "python",
   "nbconvert_exporter": "python",
   "pygments_lexer": "ipython3",
   "version": "3.7.3"
  }
 },
 "nbformat": 4,
 "nbformat_minor": 2
}
