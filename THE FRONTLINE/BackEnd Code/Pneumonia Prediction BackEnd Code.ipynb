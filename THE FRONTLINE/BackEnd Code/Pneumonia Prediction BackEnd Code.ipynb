{
 "cells": [
  {
   "cell_type": "markdown",
   "metadata": {},
   "source": [
    "# 1.import the keras libraries"
   ]
  },
  {
   "cell_type": "code",
   "execution_count": 6,
   "metadata": {},
   "outputs": [],
   "source": [
    "#import libraries\n",
    "from keras.models import Sequential\n",
    "from keras.layers import Dense\n",
    "from keras.layers import Conv2D"
   ]
  },
  {
   "cell_type": "code",
   "execution_count": 7,
   "metadata": {},
   "outputs": [],
   "source": [
    "from keras.layers import MaxPooling2D"
   ]
  },
  {
   "cell_type": "code",
   "execution_count": 8,
   "metadata": {},
   "outputs": [],
   "source": [
    "from keras.layers import Flatten"
   ]
  },
  {
   "cell_type": "markdown",
   "metadata": {},
   "source": [
    "# 2. Initialize cnn model "
   ]
  },
  {
   "cell_type": "code",
   "execution_count": 9,
   "metadata": {},
   "outputs": [],
   "source": [
    "model = Sequential()"
   ]
  },
  {
   "cell_type": "markdown",
   "metadata": {},
   "source": [
    "# 3. Add conv layer"
   ]
  },
  {
   "cell_type": "code",
   "execution_count": 10,
   "metadata": {},
   "outputs": [
    {
     "name": "stderr",
     "output_type": "stream",
     "text": [
      "E:\\applications\\python\\lib\\site-packages\\ipykernel_launcher.py:1: UserWarning: Update your `Conv2D` call to the Keras 2 API: `Conv2D(32, (3, 3), input_shape=(64, 64, 3..., activation=\"relu\")`\n",
      "  \"\"\"Entry point for launching an IPython kernel.\n"
     ]
    },
    {
     "name": "stdout",
     "output_type": "stream",
     "text": [
      "WARNING:tensorflow:From E:\\applications\\python\\lib\\site-packages\\tensorflow\\python\\framework\\op_def_library.py:263: colocate_with (from tensorflow.python.framework.ops) is deprecated and will be removed in a future version.\n",
      "Instructions for updating:\n",
      "Colocations handled automatically by placer.\n"
     ]
    }
   ],
   "source": [
    "model.add(Conv2D(32,3,3,input_shape=(64,64,3),activation='relu'))\n",
    "#32 indicates no. of feature detectors\n",
    "#3,3 are size of feture detector 3*3 matrix\n",
    "# size of image we are converting image to 64*64\n",
    "#3 indicates channel it may be 1 or 3. 1 for gray scale(black and white) image,3 for color image\n",
    "# activation function will be used for avoiding negative pixels\n",
    "\n",
    "\n"
   ]
  },
  {
   "cell_type": "markdown",
   "metadata": {},
   "source": [
    "# 4. add maxpooling layer"
   ]
  },
  {
   "cell_type": "code",
   "execution_count": 11,
   "metadata": {},
   "outputs": [],
   "source": [
    "model.add(MaxPooling2D(pool_size=(2,2)))\n",
    "#pool size is our wish we can take 2*2 or any matrix"
   ]
  },
  {
   "cell_type": "markdown",
   "metadata": {},
   "source": [
    "# 5. add flatten layer"
   ]
  },
  {
   "cell_type": "code",
   "execution_count": 12,
   "metadata": {},
   "outputs": [],
   "source": [
    "model.add(Flatten())\n",
    "#flatten layer will be input to our ann model"
   ]
  },
  {
   "cell_type": "markdown",
   "metadata": {},
   "source": [
    "# 6. adding hidden layer using dense"
   ]
  },
  {
   "cell_type": "code",
   "execution_count": 13,
   "metadata": {},
   "outputs": [
    {
     "name": "stderr",
     "output_type": "stream",
     "text": [
      "E:\\applications\\python\\lib\\site-packages\\ipykernel_launcher.py:1: UserWarning: Update your `Dense` call to the Keras 2 API: `Dense(activation=\"relu\", units=128, kernel_initializer=\"random_uniform\")`\n",
      "  \"\"\"Entry point for launching an IPython kernel.\n"
     ]
    }
   ],
   "source": [
    "model.add(Dense(output_dim=128,activation='relu',init='random_uniform'))"
   ]
  },
  {
   "cell_type": "markdown",
   "metadata": {},
   "source": [
    "# 7.adding output layer"
   ]
  },
  {
   "cell_type": "code",
   "execution_count": 14,
   "metadata": {},
   "outputs": [
    {
     "name": "stderr",
     "output_type": "stream",
     "text": [
      "E:\\applications\\python\\lib\\site-packages\\ipykernel_launcher.py:1: UserWarning: Update your `Dense` call to the Keras 2 API: `Dense(activation=\"sigmoid\", units=1, kernel_initializer=\"random_uniform\")`\n",
      "  \"\"\"Entry point for launching an IPython kernel.\n"
     ]
    }
   ],
   "source": [
    "model.add(Dense(output_dim=1,activation='sigmoid',init='random_uniform'))"
   ]
  },
  {
   "cell_type": "markdown",
   "metadata": {},
   "source": [
    "# 8. compile the model"
   ]
  },
  {
   "cell_type": "code",
   "execution_count": 15,
   "metadata": {},
   "outputs": [],
   "source": [
    "model.compile(optimizer='adam',metrics=['accuracy'],loss='binary_crossentropy')\n"
   ]
  },
  {
   "cell_type": "markdown",
   "metadata": {},
   "source": [
    "# 9. Import dataset  & preprocess the images"
   ]
  },
  {
   "cell_type": "code",
   "execution_count": 16,
   "metadata": {},
   "outputs": [],
   "source": [
    "from keras.preprocessing.image import ImageDataGenerator"
   ]
  },
  {
   "cell_type": "code",
   "execution_count": 17,
   "metadata": {},
   "outputs": [],
   "source": [
    "train_datagen = ImageDataGenerator(rescale=1./255,shear_range=0.2,zoom_range=0.2,horizontal_flip=True)\n",
    "test_datagen = ImageDataGenerator(rescale=1./255)\n",
    "# to avoid overfitting we are possing all values"
   ]
  },
  {
   "cell_type": "code",
   "execution_count": 18,
   "metadata": {},
   "outputs": [
    {
     "name": "stdout",
     "output_type": "stream",
     "text": [
      "Found 5216 images belonging to 2 classes.\n",
      "Found 624 images belonging to 2 classes.\n"
     ]
    }
   ],
   "source": [
    "x_train = train_datagen.flow_from_directory(r'C:\\Users\\abhin\\Desktop\\Project\\data set\\chest x-ray\\train',target_size=(64,64),batch_size=32,class_mode='binary')\n",
    "x_test = train_datagen.flow_from_directory(r'C:\\Users\\abhin\\Desktop\\Project\\data set\\chest x-ray\\test',target_size=(64,64),batch_size=32,class_mode='binary')\n",
    "# retrieving images from folders and split into 2 variables train and test"
   ]
  },
  {
   "cell_type": "code",
   "execution_count": 19,
   "metadata": {},
   "outputs": [
    {
     "name": "stdout",
     "output_type": "stream",
     "text": [
      "{'NORMAL': 0, 'PNEUMONIA': 1}\n"
     ]
    }
   ],
   "source": [
    "print(x_train.class_indices)"
   ]
  },
  {
   "cell_type": "code",
   "execution_count": 20,
   "metadata": {
    "scrolled": true
   },
   "outputs": [
    {
     "name": "stdout",
     "output_type": "stream",
     "text": [
      "WARNING:tensorflow:From E:\\applications\\python\\lib\\site-packages\\tensorflow\\python\\ops\\math_ops.py:3066: to_int32 (from tensorflow.python.ops.math_ops) is deprecated and will be removed in a future version.\n",
      "Instructions for updating:\n",
      "Use tf.cast instead.\n"
     ]
    },
    {
     "name": "stderr",
     "output_type": "stream",
     "text": [
      "E:\\applications\\python\\lib\\site-packages\\ipykernel_launcher.py:1: UserWarning: The semantics of the Keras 2 argument `steps_per_epoch` is not the same as the Keras 1 argument `samples_per_epoch`. `steps_per_epoch` is the number of batches to draw from the generator at each epoch. Basically steps_per_epoch = samples_per_epoch/batch_size. Similarly `nb_val_samples`->`validation_steps` and `val_samples`->`steps` arguments have changed. Update your method calls accordingly.\n",
      "  \"\"\"Entry point for launching an IPython kernel.\n",
      "E:\\applications\\python\\lib\\site-packages\\ipykernel_launcher.py:1: UserWarning: Update your `fit_generator` call to the Keras 2 API: `fit_generator(<keras_pre..., epochs=25, validation_data=<keras_pre..., steps_per_epoch=156, validation_steps=600)`\n",
      "  \"\"\"Entry point for launching an IPython kernel.\n"
     ]
    },
    {
     "name": "stdout",
     "output_type": "stream",
     "text": [
      "Epoch 1/25\n",
      "156/156 [==============================] - 942s 6s/step - loss: 0.3968 - acc: 0.8271 - val_loss: 0.5758 - val_acc: 0.7407\n",
      "Epoch 2/25\n",
      "156/156 [==============================] - 827s 5s/step - loss: 0.2370 - acc: 0.8944 - val_loss: 0.6550 - val_acc: 0.7296\n",
      "Epoch 3/25\n",
      "156/156 [==============================] - 835s 5s/step - loss: 0.2188 - acc: 0.9099 - val_loss: 0.7365 - val_acc: 0.7353\n",
      "Epoch 4/25\n",
      "156/156 [==============================] - 801s 5s/step - loss: 0.1903 - acc: 0.9251 - val_loss: 0.4692 - val_acc: 0.8053\n",
      "Epoch 5/25\n",
      "156/156 [==============================] - 812s 5s/step - loss: 0.1710 - acc: 0.9311 - val_loss: 0.6121 - val_acc: 0.7777\n",
      "Epoch 6/25\n",
      "156/156 [==============================] - 824s 5s/step - loss: 0.1713 - acc: 0.9295 - val_loss: 0.4448 - val_acc: 0.8262\n",
      "Epoch 7/25\n",
      "156/156 [==============================] - 814s 5s/step - loss: 0.1786 - acc: 0.9299 - val_loss: 0.4047 - val_acc: 0.8373\n",
      "Epoch 8/25\n",
      "156/156 [==============================] - 826s 5s/step - loss: 0.1591 - acc: 0.9355 - val_loss: 0.6944 - val_acc: 0.7613\n",
      "Epoch 9/25\n",
      "156/156 [==============================] - 842s 5s/step - loss: 0.1659 - acc: 0.9355 - val_loss: 0.4843 - val_acc: 0.8278\n",
      "Epoch 10/25\n",
      "156/156 [==============================] - 816s 5s/step - loss: 0.1385 - acc: 0.9489 - val_loss: 0.5402 - val_acc: 0.8032\n",
      "Epoch 11/25\n",
      "156/156 [==============================] - 798s 5s/step - loss: 0.1328 - acc: 0.9483 - val_loss: 0.5170 - val_acc: 0.8087\n",
      "Epoch 12/25\n",
      "156/156 [==============================] - 806s 5s/step - loss: 0.1383 - acc: 0.9453 - val_loss: 0.3739 - val_acc: 0.8608\n",
      "Epoch 13/25\n",
      "156/156 [==============================] - 840s 5s/step - loss: 0.1372 - acc: 0.9469 - val_loss: 0.4884 - val_acc: 0.8235\n",
      "Epoch 14/25\n",
      "156/156 [==============================] - 774s 5s/step - loss: 0.1225 - acc: 0.9511 - val_loss: 0.4498 - val_acc: 0.8469\n",
      "Epoch 15/25\n",
      "156/156 [==============================] - 766s 5s/step - loss: 0.1324 - acc: 0.9497 - val_loss: 0.5268 - val_acc: 0.8280\n",
      "Epoch 16/25\n",
      "156/156 [==============================] - 780s 5s/step - loss: 0.1300 - acc: 0.9519 - val_loss: 0.6025 - val_acc: 0.7810\n",
      "Epoch 17/25\n",
      "156/156 [==============================] - 778s 5s/step - loss: 0.1294 - acc: 0.9555 - val_loss: 0.4412 - val_acc: 0.8436\n",
      "Epoch 18/25\n",
      "156/156 [==============================] - 808s 5s/step - loss: 0.1184 - acc: 0.9565 - val_loss: 0.3374 - val_acc: 0.8752\n",
      "Epoch 19/25\n",
      "156/156 [==============================] - 776s 5s/step - loss: 0.1149 - acc: 0.9541 - val_loss: 0.4599 - val_acc: 0.8446\n",
      "Epoch 20/25\n",
      "156/156 [==============================] - 777s 5s/step - loss: 0.1126 - acc: 0.9569 - val_loss: 0.8253 - val_acc: 0.7602\n",
      "Epoch 21/25\n",
      "156/156 [==============================] - 772s 5s/step - loss: 0.1161 - acc: 0.9561 - val_loss: 0.5640 - val_acc: 0.8198\n",
      "Epoch 22/25\n",
      "156/156 [==============================] - 773s 5s/step - loss: 0.1104 - acc: 0.9571 - val_loss: 0.4840 - val_acc: 0.8269\n",
      "Epoch 23/25\n",
      "156/156 [==============================] - 770s 5s/step - loss: 0.1037 - acc: 0.9627 - val_loss: 0.5245 - val_acc: 0.8323\n",
      "Epoch 24/25\n",
      "156/156 [==============================] - 771s 5s/step - loss: 0.0982 - acc: 0.9627 - val_loss: 0.6316 - val_acc: 0.8086\n",
      "Epoch 25/25\n",
      "156/156 [==============================] - 781s 5s/step - loss: 0.1128 - acc: 0.9549 - val_loss: 0.6730 - val_acc: 0.7945\n"
     ]
    },
    {
     "data": {
      "text/plain": [
       "<keras.callbacks.History at 0x294c0d142e8>"
      ]
     },
     "execution_count": 20,
     "metadata": {},
     "output_type": "execute_result"
    }
   ],
   "source": [
    "model.fit_generator(x_train,samples_per_epoch=5000,epochs = 25,validation_data=x_test,nb_val_samples=600)\n",
    "#here samples for epoch = (8000/32)(totl samples/batch size)----formula\n",
    "#but you can give 8000 and 2000 only"
   ]
  },
  {
   "cell_type": "code",
   "execution_count": 21,
   "metadata": {},
   "outputs": [],
   "source": [
    "from keras.models import load_model"
   ]
  },
  {
   "cell_type": "code",
   "execution_count": 24,
   "metadata": {},
   "outputs": [],
   "source": [
    "model.save('chestxray.h5')"
   ]
  },
  {
   "cell_type": "code",
   "execution_count": null,
   "metadata": {},
   "outputs": [],
   "source": []
  }
 ],
 "metadata": {
  "kernelspec": {
   "display_name": "Python 3",
   "language": "python",
   "name": "python3"
  },
  "language_info": {
   "codemirror_mode": {
    "name": "ipython",
    "version": 3
   },
   "file_extension": ".py",
   "mimetype": "text/x-python",
   "name": "python",
   "nbconvert_exporter": "python",
   "pygments_lexer": "ipython3",
   "version": "3.7.3"
  }
 },
 "nbformat": 4,
 "nbformat_minor": 2
}
